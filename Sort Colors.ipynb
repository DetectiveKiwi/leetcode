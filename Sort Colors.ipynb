{
 "cells": [
  {
   "cell_type": "markdown",
   "id": "e18273e6",
   "metadata": {},
   "source": [
    "# Sort Colors"
   ]
  },
  {
   "cell_type": "markdown",
   "id": "15b838d2",
   "metadata": {},
   "source": [
    "Given an array nums with n objects colored red, white, or blue, sort them in-place so that objects of the same color are adjacent, with the colors in the order red, white, and blue.\n",
    "\n",
    "We will use the integers 0, 1, and 2 to represent the color red, white, and blue, respectively.\n",
    "\n",
    "You must solve this problem without using the library's sort function.\n",
    "\n",
    "Example 1\\\n",
    "Input: nums = [2,0,2,1,1,0]\\\n",
    "Output: [0,0,1,1,2,2]\n",
    "\n",
    "Example 2\\\n",
    "Input: nums = [2,0,1]\\\n",
    "Output: [0,1,2]\n",
    "\n",
    "Constraints:\n",
    "\n",
    "n == nums.length\\\n",
    "1 <= n <= 300\\\n",
    "nums[i] is either 0, 1, or 2.\n",
    "\n",
    "Follow up: Could you come up with a one-pass algorithm using only constant extra space?"
   ]
  },
  {
   "cell_type": "markdown",
   "id": "6958f067",
   "metadata": {},
   "source": [
    "## Thought process"
   ]
  },
  {
   "cell_type": "markdown",
   "id": "ce7153ec",
   "metadata": {},
   "source": [
    "From the hints given, it's pretty straightforward to do a counting sort method, where you just count the number of zero, ones, and twos. This requires going through twice.\n",
    "\n",
    "A much more fun solution (one pass) relies on the fact that there are three numbers. Since there are three numbers, you can \"move\" zeros to the front and \"move\" twos to the end. To do this, I delete the element with a zero or two, and then prepend or append a zero or two to the front or end. One just needs to be careful with for loops due to the modified indexing needed when deleting elements. I find using a while loop and manually adjusting the pointer to be easiest"
   ]
  },
  {
   "cell_type": "markdown",
   "id": "1f90b2ba",
   "metadata": {},
   "source": [
    "## Code"
   ]
  },
  {
   "cell_type": "code",
   "execution_count": 18,
   "id": "a51a3302",
   "metadata": {},
   "outputs": [],
   "source": [
    "#Two pass solution\n",
    "def sortColors(nums):\n",
    "    \"\"\"\n",
    "    :type nums: List[int]\n",
    "    :rtype: None Do not return anything, modify nums in-place instead.\n",
    "    \"\"\"\n",
    "    num_zeros = 0\n",
    "    num_ones = 0\n",
    "    num_twos = 0\n",
    "    for n in nums:\n",
    "        if n==0:\n",
    "            num_zeros += 1\n",
    "        elif n==1:\n",
    "            num_ones += 1\n",
    "        else:\n",
    "            num_twos += 1\n",
    "            \n",
    "    for i in range(len(nums)):\n",
    "        if i<num_zeros:\n",
    "            nums[i] = 0\n",
    "        elif i<num_zeros+num_ones:\n",
    "            nums[i] = 1\n",
    "        else:\n",
    "            nums[i] = 2"
   ]
  },
  {
   "cell_type": "code",
   "execution_count": 34,
   "id": "f46c014c",
   "metadata": {},
   "outputs": [],
   "source": [
    "#One pass solution\n",
    "def sortColors(nums):\n",
    "    \"\"\"\n",
    "    :type nums: List[int]\n",
    "    :rtype: None Do not return anything, modify nums in-place instead.\n",
    "    \"\"\"\n",
    "    i = 0\n",
    "    ar_end = len(nums)\n",
    "    while i<ar_end:\n",
    "        if nums[i]==0:\n",
    "            del nums[i]\n",
    "            nums.insert(0,0)\n",
    "        elif nums[i]==2:\n",
    "            del nums[i]\n",
    "            nums.append(2)\n",
    "            i -= 1\n",
    "            ar_end -= 1\n",
    "        i += 1"
   ]
  },
  {
   "cell_type": "code",
   "execution_count": 35,
   "id": "81120512",
   "metadata": {},
   "outputs": [
    {
     "data": {
      "text/plain": [
       "[0, 0, 1, 1, 2, 2]"
      ]
     },
     "execution_count": 35,
     "metadata": {},
     "output_type": "execute_result"
    }
   ],
   "source": [
    "nums = [2,0,2,1,1,0]\n",
    "sortColors(nums)\n",
    "nums"
   ]
  },
  {
   "cell_type": "code",
   "execution_count": 36,
   "id": "088a7434",
   "metadata": {},
   "outputs": [
    {
     "data": {
      "text/plain": [
       "[2]"
      ]
     },
     "execution_count": 36,
     "metadata": {},
     "output_type": "execute_result"
    }
   ],
   "source": [
    "nums = [2]\n",
    "sortColors(nums)\n",
    "nums"
   ]
  },
  {
   "cell_type": "code",
   "execution_count": 37,
   "id": "b5709b55",
   "metadata": {},
   "outputs": [
    {
     "data": {
      "text/plain": [
       "[0, 1, 2]"
      ]
     },
     "execution_count": 37,
     "metadata": {},
     "output_type": "execute_result"
    }
   ],
   "source": [
    "nums = [2,0,1]\n",
    "sortColors(nums)\n",
    "nums"
   ]
  },
  {
   "cell_type": "code",
   "execution_count": null,
   "id": "9063c8a4",
   "metadata": {},
   "outputs": [],
   "source": []
  }
 ],
 "metadata": {
  "kernelspec": {
   "display_name": "Python 3",
   "language": "python",
   "name": "python3"
  },
  "language_info": {
   "codemirror_mode": {
    "name": "ipython",
    "version": 3
   },
   "file_extension": ".py",
   "mimetype": "text/x-python",
   "name": "python",
   "nbconvert_exporter": "python",
   "pygments_lexer": "ipython3",
   "version": "3.8.8"
  }
 },
 "nbformat": 4,
 "nbformat_minor": 5
}
