{
 "cells": [
  {
   "cell_type": "markdown",
   "id": "1c15ba68",
   "metadata": {},
   "source": [
    "# 1337. The K Weakest Rows in a Matrix"
   ]
  },
  {
   "cell_type": "markdown",
   "id": "6b289924",
   "metadata": {},
   "source": [
    "You are given an m x n binary matrix mat of 1's (representing soldiers) and 0's (representing civilians). The soldiers are positioned in front of the civilians. That is, all the 1's will appear to the left of all the 0's in each row.\n",
    "\n",
    "A row i is weaker than a row j if one of the following is true:\n",
    "\n",
    "The number of soldiers in row i is less than the number of soldiers in row j.\n",
    "Both rows have the same number of soldiers and i < j.\n",
    "Return the indices of the k weakest rows in the matrix ordered from weakest to strongest.\n",
    "\n",
    "Example 1:\\\n",
    "Input: mat = \\\n",
    "[[1,1,0,0,0],\\\n",
    " [1,1,1,1,0],\\\n",
    " [1,0,0,0,0],\\\n",
    " [1,1,0,0,0],\\\n",
    " [1,1,1,1,1]],\\ \n",
    "k = 3\\\n",
    "Output: [2,0,3]\\\n",
    "Explanation: \\\n",
    "The number of soldiers in each row is: \\\n",
    "- Row 0: 2 \\\n",
    "- Row 1: 4 \\\n",
    "- Row 2: 1 \\\n",
    "- Row 3: 2 \\\n",
    "- Row 4: 5 \\\n",
    "The rows ordered from weakest to strongest are [2,0,3,1,4].\\\n",
    "\n",
    "Example 2\\\n",
    "Input: mat = \\\n",
    "[[1,0,0,0],\\\n",
    " [1,1,1,1],\\\n",
    " [1,0,0,0],\\\n",
    " [1,0,0,0]],\\ \n",
    "k = 2\\\n",
    "Output: [0,2]\\\n",
    "Explanation: \\\n",
    "The number of soldiers in each row is: \\\n",
    "- Row 0: 1 \\\n",
    "- Row 1: 4 \\\n",
    "- Row 2: 1 \\\n",
    "- Row 3: 1 \\\n",
    "The rows ordered from weakest to strongest are [0,2,3,1].\n",
    " \n",
    "Constraints:\\\n",
    "m == mat.length\\\n",
    "n == mat[i].length\\\n",
    "2 <= n, m <= 100\\\n",
    "1 <= k <= m\\\n",
    "matrix[i][j] is either 0 or 1."
   ]
  },
  {
   "cell_type": "markdown",
   "id": "3b13faf7",
   "metadata": {},
   "source": [
    "## Thought process"
   ]
  },
  {
   "cell_type": "markdown",
   "id": "7f8df030",
   "metadata": {},
   "source": [
    "My solution is to simply iterate through each row, while keeping track of the k weakest strengths sorted. For each row, I insert the strength into the sorted list and remove the last value."
   ]
  },
  {
   "cell_type": "markdown",
   "id": "a468368d",
   "metadata": {},
   "source": [
    "## Code"
   ]
  },
  {
   "cell_type": "code",
   "execution_count": 98,
   "id": "fffb7470",
   "metadata": {},
   "outputs": [],
   "source": [
    "def kWeakestRows(mat, k):\n",
    "    \"\"\"\n",
    "    :type mat: List[List[int]]\n",
    "    :type k: int\n",
    "    :rtype: List[int]\n",
    "    \"\"\"\n",
    "    import bisect\n",
    "    val = []\n",
    "    for i in range(len(mat)):\n",
    "        num = sum(mat[i])\n",
    "        bisect.insort(val,[num,i])\n",
    "        val = val[:k]\n",
    "        \n",
    "    val = [val[i][-1] for i in range(k)]\n",
    "                \n",
    "    return(val)"
   ]
  },
  {
   "cell_type": "code",
   "execution_count": 132,
   "id": "b9470df5",
   "metadata": {},
   "outputs": [
    {
     "data": {
      "text/plain": [
       "[2, 0, 3]"
      ]
     },
     "execution_count": 132,
     "metadata": {},
     "output_type": "execute_result"
    }
   ],
   "source": [
    "mat = [\n",
    "    [1,1,0,0,0],\n",
    "    [1,1,1,1,0],\n",
    "    [1,0,0,0,0],\n",
    "    [1,1,0,0,0],\n",
    "    [1,1,1,1,1]\n",
    "]\n",
    "k = 3\n",
    "\n",
    "kWeakestRows(mat, k)"
   ]
  },
  {
   "cell_type": "code",
   "execution_count": 133,
   "id": "e6b8ec67",
   "metadata": {},
   "outputs": [
    {
     "data": {
      "text/plain": [
       "[0, 2]"
      ]
     },
     "execution_count": 133,
     "metadata": {},
     "output_type": "execute_result"
    }
   ],
   "source": [
    "mat = [\n",
    "    [1,0,0,0],\n",
    "    [1,1,1,1],\n",
    "    [1,0,0,0],\n",
    "    [1,0,0,0]\n",
    "]\n",
    "k = 2\n",
    "\n",
    "kWeakestRows(mat, k)"
   ]
  },
  {
   "cell_type": "code",
   "execution_count": null,
   "id": "4b58848c",
   "metadata": {},
   "outputs": [],
   "source": []
  }
 ],
 "metadata": {
  "kernelspec": {
   "display_name": "Python 3",
   "language": "python",
   "name": "python3"
  },
  "language_info": {
   "codemirror_mode": {
    "name": "ipython",
    "version": 3
   },
   "file_extension": ".py",
   "mimetype": "text/x-python",
   "name": "python",
   "nbconvert_exporter": "python",
   "pygments_lexer": "ipython3",
   "version": "3.8.8"
  }
 },
 "nbformat": 4,
 "nbformat_minor": 5
}
