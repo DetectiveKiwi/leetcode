{
 "cells": [
  {
   "cell_type": "markdown",
   "id": "ba2d8365",
   "metadata": {},
   "source": [
    "#  Letter Combinations of a Phone Number"
   ]
  },
  {
   "cell_type": "markdown",
   "id": "7cc2ea3a",
   "metadata": {},
   "source": [
    "Given a string containing digits from 2-9 inclusive, return all possible letter combinations that the number could represent. Return the answer in any order.\n",
    "\n",
    "Input: digits = \"23\"\\\n",
    "Output: [\"ad\",\"ae\",\"af\",\"bd\",\"be\",\"bf\",\"cd\",\"ce\",\"cf\"]\n",
    "\n",
    "Input: digits = \"\"\\\n",
    "Output: []\n",
    "\n",
    "Input: digits = \"2\"\\\n",
    "Output: [\"a\",\"b\",\"c\"]"
   ]
  },
  {
   "cell_type": "markdown",
   "id": "1824e570",
   "metadata": {},
   "source": [
    "## Thought Process"
   ]
  },
  {
   "cell_type": "markdown",
   "id": "b3009bea",
   "metadata": {},
   "source": [
    "Do this recursively since there can be a variable number of digits. For each digit, check if there are more digits, and recursively call function to get next digits numbers"
   ]
  },
  {
   "cell_type": "markdown",
   "id": "eb522127",
   "metadata": {},
   "source": [
    "## Soln"
   ]
  },
  {
   "cell_type": "code",
   "execution_count": 67,
   "id": "533e6309",
   "metadata": {},
   "outputs": [],
   "source": [
    "def letterCombinations(digits):\n",
    "    \"\"\"\n",
    "    :type digits: str\n",
    "    :rtype: List[str]\n",
    "    \"\"\"\n",
    "    num_dict = {\n",
    "        '2':['a','b','c'],\n",
    "        '3':['d','e','f'],\n",
    "        '4':['g','h','i'],\n",
    "        '5':['j','k','l'],\n",
    "        '6':['m','n','o'],\n",
    "        '7':['p','q','r','s'],\n",
    "        '8':['t','u','v'],\n",
    "        '9':['w','x','y','z']\n",
    "    }\n",
    "    if digits=='':\n",
    "        return([])\n",
    "    else:\n",
    "        res = []\n",
    "        if len(digits)>1:\n",
    "            for letter1 in num_dict[digits[0]]:\n",
    "                for letter2 in letterCombinations(digits[1:]):\n",
    "                    res.append(letter1 + letter2)\n",
    "        else:\n",
    "            for letter1 in num_dict[digits[0]]:\n",
    "                res.append(letter1)\n",
    "    return(res)"
   ]
  },
  {
   "cell_type": "code",
   "execution_count": 68,
   "id": "9992d5cc",
   "metadata": {},
   "outputs": [
    {
     "data": {
      "text/plain": [
       "['ad', 'ae', 'af', 'bd', 'be', 'bf', 'cd', 'ce', 'cf']"
      ]
     },
     "execution_count": 68,
     "metadata": {},
     "output_type": "execute_result"
    }
   ],
   "source": [
    "digits = \"23\"\n",
    "letterCombinations(digits)"
   ]
  },
  {
   "cell_type": "code",
   "execution_count": 69,
   "id": "cb01e4f5",
   "metadata": {},
   "outputs": [
    {
     "data": {
      "text/plain": [
       "[]"
      ]
     },
     "execution_count": 69,
     "metadata": {},
     "output_type": "execute_result"
    }
   ],
   "source": [
    "digits = \"\"\n",
    "letterCombinations(digits)"
   ]
  },
  {
   "cell_type": "code",
   "execution_count": 70,
   "id": "8714fd06",
   "metadata": {},
   "outputs": [
    {
     "data": {
      "text/plain": [
       "['a', 'b', 'c']"
      ]
     },
     "execution_count": 70,
     "metadata": {},
     "output_type": "execute_result"
    }
   ],
   "source": [
    "digits = \"2\"\n",
    "letterCombinations(digits)"
   ]
  },
  {
   "cell_type": "code",
   "execution_count": null,
   "id": "ee6be40b",
   "metadata": {},
   "outputs": [],
   "source": []
  }
 ],
 "metadata": {
  "kernelspec": {
   "display_name": "Python 3",
   "language": "python",
   "name": "python3"
  },
  "language_info": {
   "codemirror_mode": {
    "name": "ipython",
    "version": 3
   },
   "file_extension": ".py",
   "mimetype": "text/x-python",
   "name": "python",
   "nbconvert_exporter": "python",
   "pygments_lexer": "ipython3",
   "version": "3.8.8"
  }
 },
 "nbformat": 4,
 "nbformat_minor": 5
}
