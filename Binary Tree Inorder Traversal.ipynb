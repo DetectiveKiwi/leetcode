{
 "cells": [
  {
   "cell_type": "markdown",
   "id": "08f960f4",
   "metadata": {},
   "source": [
    "# Binary Tree Inorder Traversal"
   ]
  },
  {
   "cell_type": "markdown",
   "id": "e168bd31",
   "metadata": {},
   "source": [
    "Given the root of a binary tree, return the inorder traversal of its nodes' values."
   ]
  },
  {
   "cell_type": "markdown",
   "id": "c6067b49",
   "metadata": {},
   "source": [
    "## Thought Process"
   ]
  },
  {
   "cell_type": "markdown",
   "id": "039d6b3b",
   "metadata": {},
   "source": [
    "Traverse recursively, basically checking every node in order of left, val, right"
   ]
  },
  {
   "cell_type": "markdown",
   "id": "7053ff89",
   "metadata": {},
   "source": [
    "## Helper, Define Tree Node"
   ]
  },
  {
   "cell_type": "code",
   "execution_count": 69,
   "id": "d8750446",
   "metadata": {},
   "outputs": [],
   "source": [
    "class TreeNode(object):\n",
    "    def __init__(self, val=0, left=None, right=None):\n",
    "        self.val = val\n",
    "        self.left = left\n",
    "        self.right = right\n",
    "        \n",
    "    def insert(self, valL, valR):\n",
    "        if self.left is None and self.right is None:\n",
    "            self.left = TreeNode(valL)\n",
    "            self.right = TreeNode(valR)\n",
    "        elif self.left.val is None and self.right.val is not None:\n",
    "            self.right.insert(valL, valR)\n",
    "        else:\n",
    "            self.left.insert(valL, valR)\n",
    "\n",
    "    def PrintTree(self):\n",
    "        if self.left:\n",
    "            self.left.PrintTree()\n",
    "            print(self.val),\n",
    "        if self.right:\n",
    "            self.right.PrintTree()"
   ]
  },
  {
   "cell_type": "markdown",
   "id": "5b117776",
   "metadata": {},
   "source": [
    "## Gut of Code"
   ]
  },
  {
   "cell_type": "code",
   "execution_count": 131,
   "id": "7529fbcf",
   "metadata": {},
   "outputs": [],
   "source": [
    "def inorderTraversal(root):\n",
    "    ar = []\n",
    "    if root is not None:\n",
    "        if root.left is not None:\n",
    "            for t in inorderTraversal(root.left):\n",
    "                if t is not None:\n",
    "                    ar.append(t)\n",
    "        if root.val is not None:\n",
    "            ar.append(root.val)\n",
    "        if root.right is not None:\n",
    "            for t in inorderTraversal(root.right):\n",
    "                if t is not None:\n",
    "                    ar.append(t)\n",
    "    else:\n",
    "        return None\n",
    "    return(ar)"
   ]
  },
  {
   "cell_type": "code",
   "execution_count": 132,
   "id": "1f599762",
   "metadata": {},
   "outputs": [
    {
     "data": {
      "text/plain": [
       "[1, 3, 2]"
      ]
     },
     "execution_count": 132,
     "metadata": {},
     "output_type": "execute_result"
    }
   ],
   "source": [
    "root = TreeNode(1)\n",
    "root.insert(None, 2)\n",
    "root.insert(3, None)\n",
    "\n",
    "inorderTraversal(root)"
   ]
  },
  {
   "cell_type": "code",
   "execution_count": 133,
   "id": "741d7fc2",
   "metadata": {},
   "outputs": [
    {
     "data": {
      "text/plain": [
       "[1, 4, 3, 5, 2]"
      ]
     },
     "execution_count": 133,
     "metadata": {},
     "output_type": "execute_result"
    }
   ],
   "source": [
    "root = TreeNode(1)\n",
    "root.insert(None, 2)\n",
    "root.insert(3, None)\n",
    "root.insert(4,5)\n",
    "\n",
    "inorderTraversal(root)"
   ]
  },
  {
   "cell_type": "code",
   "execution_count": 134,
   "id": "6c8d20a2",
   "metadata": {},
   "outputs": [
    {
     "data": {
      "text/plain": [
       "[]"
      ]
     },
     "execution_count": 134,
     "metadata": {},
     "output_type": "execute_result"
    }
   ],
   "source": [
    "root = TreeNode(None)\n",
    "\n",
    "inorderTraversal(root)"
   ]
  },
  {
   "cell_type": "code",
   "execution_count": 136,
   "id": "5bcebe74",
   "metadata": {},
   "outputs": [
    {
     "data": {
      "text/plain": [
       "[1]"
      ]
     },
     "execution_count": 136,
     "metadata": {},
     "output_type": "execute_result"
    }
   ],
   "source": [
    "root = TreeNode(1)\n",
    "\n",
    "inorderTraversal(root)"
   ]
  },
  {
   "cell_type": "code",
   "execution_count": null,
   "id": "b2f715bb",
   "metadata": {},
   "outputs": [],
   "source": []
  }
 ],
 "metadata": {
  "kernelspec": {
   "display_name": "Python 3",
   "language": "python",
   "name": "python3"
  },
  "language_info": {
   "codemirror_mode": {
    "name": "ipython",
    "version": 3
   },
   "file_extension": ".py",
   "mimetype": "text/x-python",
   "name": "python",
   "nbconvert_exporter": "python",
   "pygments_lexer": "ipython3",
   "version": "3.8.8"
  }
 },
 "nbformat": 4,
 "nbformat_minor": 5
}
