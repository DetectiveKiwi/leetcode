{
 "cells": [
  {
   "cell_type": "markdown",
   "id": "77f845dd",
   "metadata": {},
   "source": [
    "# 1658. Minimum Operations to Reduce X to Zero"
   ]
  },
  {
   "cell_type": "markdown",
   "id": "edd96a1f",
   "metadata": {},
   "source": [
    "You are given an integer array nums and an integer x. In one operation, you can either remove the leftmost or the rightmost element from the array nums and subtract its value from x. Note that this modifies the array for future operations.\n",
    "\n",
    "Return the minimum number of operations to reduce x to exactly 0 if it is possible, otherwise, return -1.\n",
    "\n",
    "Example 1:\n",
    "\n",
    "Input: nums = [1,1,4,2,3], x = 5\\\n",
    "Output: 2\\\n",
    "Explanation: The optimal solution is to remove the last two elements to reduce x to zero.\\\n",
    "Example 2:\n",
    "\n",
    "Input: nums = [5,6,7,8,9], x = 4\\\n",
    "Output: -1\\\n",
    "Example 3:\n",
    "\n",
    "Input: nums = [3,2,20,1,1,3], x = 10\\\n",
    "Output: 5\\\n",
    "Explanation: The optimal solution is to remove the last three elements and the first two elements (5 operations in total) to reduce x to zero.\n",
    " \n",
    "\n",
    "Constraints:\n",
    "\n",
    "1 <= nums.length <= 105\\\n",
    "1 <= nums[i] <= 104\\\n",
    "1 <= x <= 109"
   ]
  },
  {
   "cell_type": "markdown",
   "id": "9a772b6c",
   "metadata": {},
   "source": [
    "## Thought Process"
   ]
  },
  {
   "cell_type": "markdown",
   "id": "dd9828a9",
   "metadata": {},
   "source": [
    "It's difficult to form a greedy algorithm, since there will always be edge cases for everything from the left or right side of nums. Thus, we'll need to check all cases.\n",
    "\n",
    "To do this, first I iterate through the left side of nums until the total sum is greater than or equal to the required sum. If this traverses the entire array, you can exit early. Then, traverse the right side of the array. After adding each right side element, keep removing left side elements until the total sum is less than or equal to the required sum. Repeat this until the left sum is 0 and the right sum exceeds the required sum. If at any point the total sum is equal to the required sum, check if it's a smaller amount added numbers than before"
   ]
  },
  {
   "cell_type": "markdown",
   "id": "8cd3caa3",
   "metadata": {},
   "source": [
    "## Code"
   ]
  },
  {
   "cell_type": "code",
   "execution_count": 271,
   "id": "3a3126a7",
   "metadata": {},
   "outputs": [],
   "source": [
    "def minOperations(nums, x):\n",
    "    \"\"\"\n",
    "    :type nums: List[int]\n",
    "    :type x: int\n",
    "    :rtype: int\n",
    "    \"\"\"\n",
    "    minCost = 1000000\n",
    "    xTot = 0\n",
    "    \n",
    "    for Lpointer in range(len(nums)):\n",
    "        if xTot+nums[Lpointer]<x:\n",
    "            xTot += nums[Lpointer]\n",
    "        elif xTot+nums[Lpointer]==x:\n",
    "            xTot += nums[Lpointer]\n",
    "            minCost = Lpointer + 1\n",
    "            break\n",
    "        else:\n",
    "            Lpointer -= 1\n",
    "            break\n",
    "            \n",
    "    Lpointer += 1\n",
    "    if Lpointer==len(nums):\n",
    "        if minCost==1000000:\n",
    "            return(-1)\n",
    "        else:\n",
    "            return(minCost)\n",
    "    \n",
    "    for Rpointer in range(len(nums)-1,-1,-1):\n",
    "        if xTot+nums[Rpointer]<=x:\n",
    "            xTot += nums[Rpointer]\n",
    "            if xTot==x:\n",
    "                minCost = min([minCost, Lpointer + len(nums) - Rpointer])\n",
    "        elif Lpointer>0:\n",
    "            while Lpointer>0:\n",
    "                Lpointer -= 1\n",
    "                xTot -= nums[Lpointer]\n",
    "                if xTot+nums[Rpointer]<=x:\n",
    "                    xTot += nums[Rpointer]\n",
    "                    if xTot==x:\n",
    "                        minCost = min([minCost, Lpointer + len(nums) - Rpointer])\n",
    "                    break\n",
    "\n",
    "        else:\n",
    "            break\n",
    "\n",
    "    if minCost==1000000:\n",
    "        return(-1)\n",
    "    else:\n",
    "        return(minCost)"
   ]
  },
  {
   "cell_type": "code",
   "execution_count": 282,
   "id": "d4206bb7",
   "metadata": {},
   "outputs": [
    {
     "data": {
      "text/plain": [
       "2"
      ]
     },
     "execution_count": 282,
     "metadata": {},
     "output_type": "execute_result"
    }
   ],
   "source": [
    "nums = [1,1,4,2,3]\n",
    "x = 5\n",
    "\n",
    "minOperations(nums, x)"
   ]
  },
  {
   "cell_type": "code",
   "execution_count": 283,
   "id": "906a7c07",
   "metadata": {},
   "outputs": [
    {
     "data": {
      "text/plain": [
       "5"
      ]
     },
     "execution_count": 283,
     "metadata": {},
     "output_type": "execute_result"
    }
   ],
   "source": [
    "nums = [3,2,20,1,1,3]\n",
    "x = 10\n",
    "\n",
    "minOperations(nums, x)"
   ]
  },
  {
   "cell_type": "code",
   "execution_count": 284,
   "id": "45bda58b",
   "metadata": {},
   "outputs": [
    {
     "data": {
      "text/plain": [
       "-1"
      ]
     },
     "execution_count": 284,
     "metadata": {},
     "output_type": "execute_result"
    }
   ],
   "source": [
    "nums = [5,6,7,8,9]\n",
    "x = 4\n",
    "\n",
    "minOperations(nums, x)"
   ]
  },
  {
   "cell_type": "code",
   "execution_count": 285,
   "id": "aca8419c",
   "metadata": {},
   "outputs": [
    {
     "data": {
      "text/plain": [
       "2"
      ]
     },
     "execution_count": 285,
     "metadata": {},
     "output_type": "execute_result"
    }
   ],
   "source": [
    "nums = [1,4]\n",
    "x = 5\n",
    "\n",
    "minOperations(nums, x)"
   ]
  },
  {
   "cell_type": "code",
   "execution_count": 286,
   "id": "059eb10e",
   "metadata": {},
   "outputs": [
    {
     "data": {
      "text/plain": [
       "-1"
      ]
     },
     "execution_count": 286,
     "metadata": {},
     "output_type": "execute_result"
    }
   ],
   "source": [
    "nums = [1,6]\n",
    "x = 5\n",
    "\n",
    "minOperations(nums, x)"
   ]
  },
  {
   "cell_type": "code",
   "execution_count": null,
   "id": "a0e827a7",
   "metadata": {},
   "outputs": [],
   "source": []
  },
  {
   "cell_type": "code",
   "execution_count": null,
   "id": "f6dfda97",
   "metadata": {},
   "outputs": [],
   "source": []
  },
  {
   "cell_type": "code",
   "execution_count": null,
   "id": "19f79773",
   "metadata": {},
   "outputs": [],
   "source": []
  },
  {
   "cell_type": "code",
   "execution_count": null,
   "id": "4524d8e1",
   "metadata": {},
   "outputs": [],
   "source": []
  }
 ],
 "metadata": {
  "kernelspec": {
   "display_name": "Python 3",
   "language": "python",
   "name": "python3"
  },
  "language_info": {
   "codemirror_mode": {
    "name": "ipython",
    "version": 3
   },
   "file_extension": ".py",
   "mimetype": "text/x-python",
   "name": "python",
   "nbconvert_exporter": "python",
   "pygments_lexer": "ipython3",
   "version": "3.8.8"
  }
 },
 "nbformat": 4,
 "nbformat_minor": 5
}
