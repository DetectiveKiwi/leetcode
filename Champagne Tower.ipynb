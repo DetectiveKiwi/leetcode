{
 "cells": [
  {
   "cell_type": "markdown",
   "id": "a307d83c",
   "metadata": {},
   "source": [
    "# 799. Champagne Tower"
   ]
  },
  {
   "cell_type": "markdown",
   "id": "e696718f",
   "metadata": {},
   "source": [
    "We stack glasses in a pyramid, where the first row has 1 glass, the second row has 2 glasses, and so on until the 100th row.  Each glass holds one cup of champagne.\n",
    "\n",
    "Then, some champagne is poured into the first glass at the top.  When the topmost glass is full, any excess liquid poured will fall equally to the glass immediately to the left and right of it.  When those glasses become full, any excess champagne will fall equally to the left and right of those glasses, and so on.  (A glass at the bottom row has its excess champagne fall on the floor.)\n",
    "\n",
    "For example, after one cup of champagne is poured, the top most glass is full.  After two cups of champagne are poured, the two glasses on the second row are half full.  After three cups of champagne are poured, those two cups become full - there are 3 full glasses total now.  After four cups of champagne are poured, the third row has the middle glass half full, and the two outside glasses are a quarter full, as pictured below.\n",
    "\n",
    "\n",
    "\n",
    "Now after pouring some non-negative integer cups of champagne, return how full the jth glass in the ith row is (both i and j are 0-indexed.)\n",
    "\n",
    " \n",
    "\n",
    "Example 1:\n",
    "\n",
    "Input: poured = 1, query_row = 1, query_glass = 1\\\n",
    "Output: 0.00000]\n",
    "Explanation: We poured 1 cup of champange to the top glass of the tower (which is indexed as (0, 0)). There will be no excess liquid so all the glasses under the top glass will remain empty.\\\n",
    "Example 2:\n",
    "\n",
    "Input: poured = 2, query_row = 1, query_glass = 1\n",
    "Output: 0.50000\\\n",
    "Explanation: We poured 2 cups of champange to the top glass of the tower (which is indexed as (0, 0)). There is one cup of excess liquid. The glass indexed as (1, 0) and the glass indexed as (1, 1) will share the excess liquid equally, and each will get half cup of champange.\\\n",
    "Example 3:\n",
    "\n",
    "Input: poured = 100000009, query_row = 33, query_glass = 17\\\n",
    "Output: 1.00000\n",
    " \n",
    "\n",
    "Constraints:\n",
    "\n",
    "0 <= poured <= 109\\\n",
    "0 <= query_glass <= query_row < 100"
   ]
  },
  {
   "cell_type": "markdown",
   "id": "073adec3",
   "metadata": {},
   "source": [
    "## Thought process"
   ]
  },
  {
   "cell_type": "markdown",
   "id": "cd2900a9",
   "metadata": {},
   "source": [
    "Start by initializing the entire glass contents up to the row querying. Afterwards, basically need to simulate the wine falling down. For a particular glass, if there is x amount of wine, subtract 1, divide by 2, and that is the amount (if greater than 0) that falls down into the next glass. \n",
    "\n",
    "However, we can be even more clever, since we don't need to calculate any wine glass that won't fill the queried glass.\n",
    "\n",
    "For example, in this case:\n",
    "\n",
    "   0\n",
    "  1 2\n",
    " 3 4 5\n",
    "6 7 8 9\n",
    "\n",
    "glass number 3 cannot fill up glass number 9. This allows us to save on number of computations.\n",
    "\n",
    "If we we're interested in glass number 9, the computations would be as follows:\n",
    "- fill 0\n",
    "- fill 2\n",
    "- fill 5\n",
    "- fill 9\n",
    "- return 9 (make sure that max is 1)\n",
    "\n",
    "Also, one can speed up calculations by always including the two above it (or one if an end point), so there are less things to check\n",
    "\n",
    "As of sep 24, 2023, this solution beats 100% of python solutions"
   ]
  },
  {
   "cell_type": "markdown",
   "id": "664625fd",
   "metadata": {},
   "source": [
    "## Code"
   ]
  },
  {
   "cell_type": "code",
   "execution_count": 569,
   "id": "302ac1f8",
   "metadata": {},
   "outputs": [],
   "source": [
    "def champagneTower(poured, query_row, query_glass):\n",
    "    \"\"\"\n",
    "    :type poured: int\n",
    "    :type query_row: int\n",
    "    :type query_glass: int\n",
    "    :rtype: float\n",
    "    \"\"\"\n",
    "    glass_amount = [[0] * k for k in range(1, query_row+2)]\n",
    "    glass_amount[0][0] = poured\n",
    "    \n",
    "    for row in range(1,query_row+1):\n",
    "        start = max(0,query_glass-query_row+row)\n",
    "        end = min(query_glass+1,row+1)\n",
    "        if start==0:\n",
    "            glass_amount[row][0] = max([(glass_amount[row-1][0]-1)/2.,0])\n",
    "            start += 1\n",
    "        if end==row+1:\n",
    "            glass_amount[row][row] = max([(glass_amount[row-1][row-1]-1)/2.,0])\n",
    "            end -= 1\n",
    "        for col in range(start, end):\n",
    "            glass_amount[row][col] = max([(glass_amount[row-1][col-1]-1)/2.,0]) + max([(glass_amount[row-1][col]-1)/2.,0])\n",
    "                \n",
    "    return min([glass_amount[query_row][query_glass], 1])"
   ]
  },
  {
   "cell_type": "code",
   "execution_count": 570,
   "id": "81231881",
   "metadata": {},
   "outputs": [
    {
     "data": {
      "text/plain": [
       "0.25"
      ]
     },
     "execution_count": 570,
     "metadata": {},
     "output_type": "execute_result"
    }
   ],
   "source": [
    "poured = 6\n",
    "query_row = 3\n",
    "query_glass = 2\n",
    "\n",
    "champagneTower(poured, query_row, query_glass)"
   ]
  },
  {
   "cell_type": "code",
   "execution_count": 571,
   "id": "87df270c",
   "metadata": {},
   "outputs": [
    {
     "data": {
      "text/plain": [
       "0.0"
      ]
     },
     "execution_count": 571,
     "metadata": {},
     "output_type": "execute_result"
    }
   ],
   "source": [
    "poured = 1\n",
    "query_row = 1\n",
    "query_glass = 1\n",
    "\n",
    "champagneTower(poured, query_row, query_glass)"
   ]
  },
  {
   "cell_type": "code",
   "execution_count": 572,
   "id": "9ae81d20",
   "metadata": {},
   "outputs": [
    {
     "data": {
      "text/plain": [
       "0.5"
      ]
     },
     "execution_count": 572,
     "metadata": {},
     "output_type": "execute_result"
    }
   ],
   "source": [
    "poured = 2\n",
    "query_row = 1\n",
    "query_glass = 1\n",
    "\n",
    "champagneTower(poured, query_row, query_glass)"
   ]
  },
  {
   "cell_type": "code",
   "execution_count": 573,
   "id": "1fb643af",
   "metadata": {},
   "outputs": [
    {
     "data": {
      "text/plain": [
       "1"
      ]
     },
     "execution_count": 573,
     "metadata": {},
     "output_type": "execute_result"
    }
   ],
   "source": [
    "poured = 100000009\n",
    "query_row = 33\n",
    "query_glass = 17\n",
    "\n",
    "champagneTower(poured, query_row, query_glass)"
   ]
  },
  {
   "cell_type": "code",
   "execution_count": null,
   "id": "f4998fb8",
   "metadata": {},
   "outputs": [],
   "source": []
  },
  {
   "cell_type": "code",
   "execution_count": null,
   "id": "83bcf412",
   "metadata": {},
   "outputs": [],
   "source": []
  }
 ],
 "metadata": {
  "kernelspec": {
   "display_name": "Python 3",
   "language": "python",
   "name": "python3"
  },
  "language_info": {
   "codemirror_mode": {
    "name": "ipython",
    "version": 3
   },
   "file_extension": ".py",
   "mimetype": "text/x-python",
   "name": "python",
   "nbconvert_exporter": "python",
   "pygments_lexer": "ipython3",
   "version": "3.8.8"
  }
 },
 "nbformat": 4,
 "nbformat_minor": 5
}
