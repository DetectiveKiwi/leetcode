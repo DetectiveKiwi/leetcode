{
 "cells": [
  {
   "cell_type": "markdown",
   "id": "a597bfc6",
   "metadata": {},
   "source": [
    "# Min Cost to Connect All Points"
   ]
  },
  {
   "cell_type": "markdown",
   "id": "ecf77d0e",
   "metadata": {},
   "source": [
    "You are given an array points representing integer coordinates of some points on a 2D-plane, where points[i] = [xi, yi].\n",
    "\n",
    "The cost of connecting two points [xi, yi] and [xj, yj] is the manhattan distance between them: |xi - xj| + |yi - yj|, where |val| denotes the absolute value of val.\n",
    "\n",
    "Return the minimum cost to make all points connected. All points are connected if there is exactly one simple path between any two points.\n",
    "\n",
    " \n",
    "\n",
    "Example 1:\n",
    "Input: points = [[0,0],[2,2],[3,10],[5,2],[7,0]]\\\n",
    "Output: 20\\\n",
    "\n",
    "Example 2:\\\n",
    "Input: points = [[3,12],[-2,5],[-4,1]]\\\n",
    "Output: 18\n",
    " \n",
    "Constraints:\\\n",
    "1 <= points.length <= 1000\\\n",
    "-106 <= xi, yi <= 106\\\n",
    "All pairs (xi, yi) are distinct."
   ]
  },
  {
   "cell_type": "markdown",
   "id": "5aab08f5",
   "metadata": {},
   "source": [
    "## Thought process"
   ]
  },
  {
   "cell_type": "markdown",
   "id": "959ab9e5",
   "metadata": {},
   "source": [
    "Solution 1: My initial way of thinking about this problem was to keep track of the distances between each point in the network to every point outside of the network. Upon iterating through, the smallest distance point is added to the network. Unfortunately, this turns out to be fairly slow since you need to keep track of many values."
   ]
  },
  {
   "cell_type": "markdown",
   "id": "3b46e52a",
   "metadata": {},
   "source": [
    "Solution 2: Looking further, it appears that Prim's algorithm is mainly used here. Following along, this turns out to be extremely fast (10 times faster than my earlier solution). Basically, start with a point, and find the distances for all other points to your \"network\" of one point. The distance in this array for the first point is set to infinity. Find the minimum distance. The closest point's distance is set to infinity. The distance between this closest point and all points outside the network are compared to their original distances. If smaller, update the minimum distance to the tree. Iterate through.\n",
    "\n",
    "This saves on memory and needing to check through all points inside the graph"
   ]
  },
  {
   "cell_type": "markdown",
   "id": "b188a520",
   "metadata": {},
   "source": [
    "## Code"
   ]
  },
  {
   "cell_type": "code",
   "execution_count": 573,
   "id": "e34bdd01",
   "metadata": {},
   "outputs": [],
   "source": [
    "#Old solution\n",
    "\n",
    "def minCostConnectPoints(points):\n",
    "    \"\"\"\n",
    "    :type points: List[List[int]]\n",
    "    :rtype: int\n",
    "    \"\"\"\n",
    "    def getDist(p1, p2):\n",
    "        \"\"\"\n",
    "        Finds the Manhattan distance between two points\n",
    "        \"\"\"\n",
    "        return(abs(p1[0] - p2[0]) + abs(p1[1] - p2[1]))\n",
    "    \n",
    "    res = 0\n",
    "    if len(points)<2:\n",
    "        return(res)\n",
    "    \n",
    "    p_left = points\n",
    "    \n",
    "    network = p_left[0]\n",
    "    del p_left[0]\n",
    "    vals = []\n",
    "    \n",
    "    while len(p_left)>0:\n",
    "        vals.append([getDist(network,p) for p in p_left])\n",
    "        minVals = [min(v) for v in vals]\n",
    "        \n",
    "        rowMinVal = min(minVals)\n",
    "        rowMinIdx = minVals.index(rowMinVal)\n",
    "        \n",
    "        minIdx = vals[rowMinIdx].index(rowMinVal)\n",
    "        \n",
    "        network = p_left[minIdx]\n",
    "        del p_left[minIdx]\n",
    "        res += rowMinVal\n",
    "        \n",
    "        for v in vals:\n",
    "            del v[minIdx]\n",
    "\n",
    "    return(res)"
   ]
  },
  {
   "cell_type": "code",
   "execution_count": 653,
   "id": "799fbca2",
   "metadata": {},
   "outputs": [],
   "source": [
    "def minCostConnectPoints(points):\n",
    "    \"\"\"\n",
    "    :type points: List[List[int]]\n",
    "    :rtype: int\n",
    "    \"\"\"\n",
    "    def getDist(p1, p2):\n",
    "        \"\"\"\n",
    "        Finds the Manhattan distance between two points\n",
    "        \"\"\"\n",
    "        return(abs(p1[0] - p2[0]) + abs(p1[1] - p2[1]))\n",
    "    \n",
    "    res = 0\n",
    "    \n",
    "    minDists = [10000000]\n",
    "    for i in range(1,len(points)):\n",
    "        minDists.append(getDist(points[0],points[i]))\n",
    "        \n",
    "    for i in range(1,len(points)):\n",
    "        minVal = min(minDists)\n",
    "        res += minVal\n",
    "        \n",
    "        minIdx = minDists.index(minVal)\n",
    "        minDists[minIdx] = 10000000\n",
    "        for j in range(len(points)):\n",
    "            if minDists[j]==10000000:\n",
    "                continue\n",
    "            else:\n",
    "                newDist = getDist(points[minIdx],points[j])\n",
    "                if newDist < minDists[j]:\n",
    "                    minDists[j] = newDist\n",
    "\n",
    "    return(res)"
   ]
  },
  {
   "cell_type": "code",
   "execution_count": 661,
   "id": "229c25ee",
   "metadata": {
    "scrolled": true
   },
   "outputs": [
    {
     "data": {
      "text/plain": [
       "13"
      ]
     },
     "execution_count": 661,
     "metadata": {},
     "output_type": "execute_result"
    }
   ],
   "source": [
    "points = [[0,0],[1,1],[1,0],[10,0],[10,1],[11,0]]\n",
    "minCostConnectPoints(points)"
   ]
  },
  {
   "cell_type": "code",
   "execution_count": 662,
   "id": "53c24392",
   "metadata": {},
   "outputs": [
    {
     "data": {
      "text/plain": [
       "20"
      ]
     },
     "execution_count": 662,
     "metadata": {},
     "output_type": "execute_result"
    }
   ],
   "source": [
    "points = [[0,0],[2,2],[3,10],[5,2],[7,0]]\n",
    "minCostConnectPoints(points)"
   ]
  },
  {
   "cell_type": "code",
   "execution_count": 663,
   "id": "28cc4d79",
   "metadata": {},
   "outputs": [
    {
     "data": {
      "text/plain": [
       "18"
      ]
     },
     "execution_count": 663,
     "metadata": {},
     "output_type": "execute_result"
    }
   ],
   "source": [
    "points = [[3,12],[-2,5],[-4,1]]\n",
    "minCostConnectPoints(points)"
   ]
  },
  {
   "cell_type": "code",
   "execution_count": 664,
   "id": "61830704",
   "metadata": {},
   "outputs": [
    {
     "data": {
      "text/plain": [
       "0"
      ]
     },
     "execution_count": 664,
     "metadata": {},
     "output_type": "execute_result"
    }
   ],
   "source": [
    "points = [[0,0]]\n",
    "minCostConnectPoints(points)"
   ]
  },
  {
   "cell_type": "code",
   "execution_count": 665,
   "id": "bc31f957",
   "metadata": {},
   "outputs": [
    {
     "data": {
      "text/plain": [
       "139"
      ]
     },
     "execution_count": 665,
     "metadata": {},
     "output_type": "execute_result"
    }
   ],
   "source": [
    "points = [[-8,14],[16,-18],[-19,-13],[-18,19],[20,20],[13,-20],[-15,9],[-4,-8]]\n",
    "minCostConnectPoints(points)"
   ]
  },
  {
   "cell_type": "code",
   "execution_count": null,
   "id": "82a29f94",
   "metadata": {},
   "outputs": [],
   "source": []
  },
  {
   "cell_type": "code",
   "execution_count": null,
   "id": "15a80481",
   "metadata": {},
   "outputs": [],
   "source": []
  }
 ],
 "metadata": {
  "kernelspec": {
   "display_name": "Python 3",
   "language": "python",
   "name": "python3"
  },
  "language_info": {
   "codemirror_mode": {
    "name": "ipython",
    "version": 3
   },
   "file_extension": ".py",
   "mimetype": "text/x-python",
   "name": "python",
   "nbconvert_exporter": "python",
   "pygments_lexer": "ipython3",
   "version": "3.8.8"
  }
 },
 "nbformat": 4,
 "nbformat_minor": 5
}
