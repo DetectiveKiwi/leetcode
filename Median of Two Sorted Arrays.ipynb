{
 "cells": [
  {
   "cell_type": "markdown",
   "id": "994361e4",
   "metadata": {},
   "source": [
    "# 4. Median of Two Sorted Arrays"
   ]
  },
  {
   "cell_type": "markdown",
   "id": "78647107",
   "metadata": {},
   "source": [
    "Given two sorted arrays nums1 and nums2 of size m and n respectively, return the median of the two sorted arrays.\n",
    "\n",
    "The overall run time complexity should be O(log (m+n)).\n",
    "\n",
    " \n",
    "\n",
    "Example 1:\n",
    "\n",
    "Input: nums1 = [1,3], nums2 = [2]\\\n",
    "Output: 2.00000\\\n",
    "Explanation: merged array = [1,2,3] and median is 2.\\\n",
    "Example 2:\n",
    "\n",
    "Input: nums1 = [1,2], nums2 = [3,4]\\\n",
    "Output: 2.50000\\\n",
    "Explanation: merged array = [1,2,3,4] and median is (2 + 3) / 2 = 2.5.\n",
    " \n",
    "\n",
    "Constraints:\n",
    "\n",
    "nums1.length == m\\\n",
    "nums2.length == n\\\n",
    "0 <= m <= 1000\\\n",
    "0 <= n <= 1000\\\n",
    "1 <= m + n <= 2000\\\n",
    "-106 <= nums1[i], nums2[i] <= 106"
   ]
  },
  {
   "cell_type": "markdown",
   "id": "25177a75",
   "metadata": {},
   "source": [
    "## Thought Process"
   ]
  },
  {
   "cell_type": "markdown",
   "id": "50b8e926",
   "metadata": {},
   "source": [
    "I can think of three possible solutions. First, the simplest, is to simply make a new list and sort it. This of course is extremely slow.\n",
    "\n",
    "Second, and the one implemented here, is to iterate through (m+n)/2 elements until we have found the halfway point. Basically, start two pointers, one for each list, and iterate whichever one is smaller.\n",
    "\n",
    "Third, not implemented here, is a binary search algorithm. By searching halfway within nums1 and nums2, we should be able to throw out half each time, until we converge to a single element."
   ]
  },
  {
   "cell_type": "markdown",
   "id": "99691eb1",
   "metadata": {},
   "source": [
    "## Code"
   ]
  },
  {
   "cell_type": "code",
   "execution_count": 154,
   "id": "8e66447a",
   "metadata": {},
   "outputs": [],
   "source": [
    "def findMedianSortedArrays(nums1, nums2):\n",
    "    \"\"\"\n",
    "    :type nums1: List[int]\n",
    "    :type nums2: List[int]\n",
    "    :rtype: float\n",
    "    \"\"\"\n",
    "    L1 = 0\n",
    "    L2 = 0\n",
    "    res = -1\n",
    "\n",
    "    if len(nums1)+len(nums2)==0:\n",
    "        return(-1)\n",
    "    elif (len(nums1)+len(nums2))%2==1:\n",
    "        for i in range((len(nums1)+len(nums2))//2+1):\n",
    "            if L1==len(nums1):\n",
    "                res = nums2[L2]\n",
    "                L2 += 1\n",
    "            elif L2==len(nums2):\n",
    "                res = nums1[L1]\n",
    "                L1 += 1\n",
    "            elif nums1[L1]<nums2[L2]:\n",
    "                res = nums1[L1]\n",
    "                L1 += 1\n",
    "            else:\n",
    "                res = nums2[L2]\n",
    "                L2 += 1\n",
    "        return(res)\n",
    "    else:\n",
    "        for i in range((len(nums1)+len(nums2))//2+1):\n",
    "            if L1==len(nums1):\n",
    "                resP = res\n",
    "                res = nums2[L2]\n",
    "                L2 += 1\n",
    "            elif L2==len(nums2):\n",
    "                resP = res\n",
    "                res = nums1[L1]\n",
    "                L1 += 1\n",
    "            elif nums1[L1]<nums2[L2]:\n",
    "                resP = res\n",
    "                res = nums1[L1]\n",
    "                L1 += 1\n",
    "            else:\n",
    "                resP = res\n",
    "                res = nums2[L2]\n",
    "                L2 += 1\n",
    "        return((res+resP)/2.)\n"
   ]
  },
  {
   "cell_type": "code",
   "execution_count": null,
   "id": "f800950f",
   "metadata": {},
   "outputs": [],
   "source": [
    "def findMedianSortedArrays(nums1, nums2):\n",
    "    \"\"\"\n",
    "    :type nums1: List[int]\n",
    "    :type nums2: List[int]\n",
    "    :rtype: float\n",
    "    \"\"\"\n",
    "    L1 = 0\n",
    "    L2 = 0\n",
    "    res = -1\n",
    "\n",
    "    if len(nums1)+len(nums2)==0:\n",
    "        return(-1)\n",
    "    elif (len(nums1)+len(nums2))%2==1:\n",
    "        for i in range((len(nums1)+len(nums2))//2+1):\n",
    "            if L1==len(nums1):\n",
    "                res = nums2[L2]\n",
    "                L2 += 1\n",
    "            elif L2==len(nums2):\n",
    "                res = nums1[L1]\n",
    "                L1 += 1\n",
    "            elif nums1[L1]<nums2[L2]:\n",
    "                res = nums1[L1]\n",
    "                L1 += 1\n",
    "            else:\n",
    "                res = nums2[L2]\n",
    "                L2 += 1\n",
    "        return(res)\n",
    "    else:\n",
    "        for i in range((len(nums1)+len(nums2))//2+1):\n",
    "            if L1==len(nums1):\n",
    "                resP = res\n",
    "                res = nums2[L2]\n",
    "                L2 += 1\n",
    "            elif L2==len(nums2):\n",
    "                resP = res\n",
    "                res = nums1[L1]\n",
    "                L1 += 1\n",
    "            elif nums1[L1]<nums2[L2]:\n",
    "                resP = res\n",
    "                res = nums1[L1]\n",
    "                L1 += 1\n",
    "            else:\n",
    "                resP = res\n",
    "                res = nums2[L2]\n",
    "                L2 += 1\n",
    "        return((res+resP)/2.)\n"
   ]
  },
  {
   "cell_type": "code",
   "execution_count": 155,
   "id": "13516033",
   "metadata": {},
   "outputs": [
    {
     "data": {
      "text/plain": [
       "2"
      ]
     },
     "execution_count": 155,
     "metadata": {},
     "output_type": "execute_result"
    }
   ],
   "source": [
    "nums1 = [1,3]\n",
    "nums2 = [2]\n",
    "\n",
    "findMedianSortedArrays(nums1, nums2)"
   ]
  },
  {
   "cell_type": "code",
   "execution_count": 156,
   "id": "d242ee16",
   "metadata": {},
   "outputs": [
    {
     "data": {
      "text/plain": [
       "4"
      ]
     },
     "execution_count": 156,
     "metadata": {},
     "output_type": "execute_result"
    }
   ],
   "source": [
    "nums1 = [1,2]\n",
    "nums2 = [3,4,5,6,7]\n",
    "\n",
    "findMedianSortedArrays(nums1, nums2)"
   ]
  },
  {
   "cell_type": "code",
   "execution_count": 157,
   "id": "f0238284",
   "metadata": {},
   "outputs": [
    {
     "data": {
      "text/plain": [
       "2.5"
      ]
     },
     "execution_count": 157,
     "metadata": {},
     "output_type": "execute_result"
    }
   ],
   "source": [
    "nums1 = [1,2]\n",
    "nums2 = [3,4]\n",
    "\n",
    "findMedianSortedArrays(nums1, nums2)"
   ]
  },
  {
   "cell_type": "code",
   "execution_count": 158,
   "id": "e5583fe8",
   "metadata": {},
   "outputs": [
    {
     "data": {
      "text/plain": [
       "1.5"
      ]
     },
     "execution_count": 158,
     "metadata": {},
     "output_type": "execute_result"
    }
   ],
   "source": [
    "nums1 = [1,2]\n",
    "nums2 = []\n",
    "\n",
    "findMedianSortedArrays(nums1, nums2)"
   ]
  },
  {
   "cell_type": "code",
   "execution_count": 159,
   "id": "764b4f46",
   "metadata": {},
   "outputs": [
    {
     "data": {
      "text/plain": [
       "3"
      ]
     },
     "execution_count": 159,
     "metadata": {},
     "output_type": "execute_result"
    }
   ],
   "source": [
    "nums1 = []\n",
    "nums2 = [1,2,3,4,5]\n",
    "\n",
    "findMedianSortedArrays(nums1, nums2)"
   ]
  },
  {
   "cell_type": "code",
   "execution_count": null,
   "id": "5cc65d8f",
   "metadata": {},
   "outputs": [],
   "source": []
  },
  {
   "cell_type": "code",
   "execution_count": null,
   "id": "57de505d",
   "metadata": {},
   "outputs": [],
   "source": []
  },
  {
   "cell_type": "code",
   "execution_count": null,
   "id": "34fb60f2",
   "metadata": {},
   "outputs": [],
   "source": []
  }
 ],
 "metadata": {
  "kernelspec": {
   "display_name": "Python 3",
   "language": "python",
   "name": "python3"
  },
  "language_info": {
   "codemirror_mode": {
    "name": "ipython",
    "version": 3
   },
   "file_extension": ".py",
   "mimetype": "text/x-python",
   "name": "python",
   "nbconvert_exporter": "python",
   "pygments_lexer": "ipython3",
   "version": "3.8.8"
  }
 },
 "nbformat": 4,
 "nbformat_minor": 5
}
