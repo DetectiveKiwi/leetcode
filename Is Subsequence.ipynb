{
 "cells": [
  {
   "cell_type": "markdown",
   "id": "e3627947",
   "metadata": {},
   "source": [
    "# 392. Is Subsequence"
   ]
  },
  {
   "cell_type": "markdown",
   "id": "f555819a",
   "metadata": {},
   "source": [
    "Given two strings s and t, return true if s is a subsequence of t, or false otherwise.\n",
    "\n",
    "A subsequence of a string is a new string that is formed from the original string by deleting some (can be none) of the characters without disturbing the relative positions of the remaining characters. (i.e., \"ace\" is a subsequence of \"abcde\" while \"aec\" is not).\n",
    "\n",
    " \n",
    "\n",
    "Example 1:\n",
    "\n",
    "Input: s = \"abc\", t = \"ahbgdc\"\\\n",
    "Output: true\\\n",
    "Example 2:\n",
    "\n",
    "Input: s = \"axc\", t = \"ahbgdc\"\\\n",
    "Output: false\n",
    " \n",
    "\n",
    "Constraints:\n",
    "\n",
    "0 <= s.length <= 100\\\n",
    "0 <= t.length <= 104\\\n",
    "s and t consist only of lowercase English letters."
   ]
  },
  {
   "cell_type": "markdown",
   "id": "7880e461",
   "metadata": {},
   "source": [
    "## Thought Process"
   ]
  },
  {
   "cell_type": "markdown",
   "id": "d906f4a1",
   "metadata": {},
   "source": [
    "My idea is to have one pointer for s, and loop through t. For every element in t, if it's equal to s, move the pointer to s one space. If this is the end of s, return True. If you end up going through the entire length of t, return False"
   ]
  },
  {
   "cell_type": "markdown",
   "id": "0b5faa12",
   "metadata": {},
   "source": [
    "## Code"
   ]
  },
  {
   "cell_type": "code",
   "execution_count": 8,
   "id": "b4f3c224",
   "metadata": {},
   "outputs": [],
   "source": [
    "def isSubsequence(s, t):\n",
    "    \"\"\"\n",
    "    :type s: str\n",
    "    :type t: str\n",
    "    :rtype: bool\n",
    "    \"\"\"\n",
    "    if len(s)==0:\n",
    "        return False\n",
    "    sP = 0\n",
    "    for c in t:\n",
    "        if c==s[sP]:\n",
    "            if sP==len(s)-1:\n",
    "                return True\n",
    "            sP += 1\n",
    "    return False"
   ]
  },
  {
   "cell_type": "code",
   "execution_count": 4,
   "id": "d9f13fe1",
   "metadata": {},
   "outputs": [
    {
     "data": {
      "text/plain": [
       "True"
      ]
     },
     "execution_count": 4,
     "metadata": {},
     "output_type": "execute_result"
    }
   ],
   "source": [
    "s = \"abc\"\n",
    "t = \"ahbgdc\"\n",
    "\n",
    "isSubsequence(s,t)"
   ]
  },
  {
   "cell_type": "code",
   "execution_count": 5,
   "id": "14ddacf2",
   "metadata": {},
   "outputs": [
    {
     "data": {
      "text/plain": [
       "False"
      ]
     },
     "execution_count": 5,
     "metadata": {},
     "output_type": "execute_result"
    }
   ],
   "source": [
    "s = \"acb\"\n",
    "t = \"ahbgdc\"\n",
    "\n",
    "isSubsequence(s,t)"
   ]
  },
  {
   "cell_type": "code",
   "execution_count": 6,
   "id": "4de61ca6",
   "metadata": {},
   "outputs": [
    {
     "data": {
      "text/plain": [
       "False"
      ]
     },
     "execution_count": 6,
     "metadata": {},
     "output_type": "execute_result"
    }
   ],
   "source": [
    "s = \"axc\"\n",
    "t = \"ahbgdc\"\n",
    "isSubsequence(s,t)"
   ]
  },
  {
   "cell_type": "code",
   "execution_count": null,
   "id": "9a4a2410",
   "metadata": {},
   "outputs": [],
   "source": []
  }
 ],
 "metadata": {
  "kernelspec": {
   "display_name": "Python 3",
   "language": "python",
   "name": "python3"
  },
  "language_info": {
   "codemirror_mode": {
    "name": "ipython",
    "version": 3
   },
   "file_extension": ".py",
   "mimetype": "text/x-python",
   "name": "python",
   "nbconvert_exporter": "python",
   "pygments_lexer": "ipython3",
   "version": "3.8.8"
  }
 },
 "nbformat": 4,
 "nbformat_minor": 5
}
