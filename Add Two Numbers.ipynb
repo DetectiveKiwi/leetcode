{
 "cells": [
  {
   "cell_type": "markdown",
   "id": "9d95b8fa",
   "metadata": {},
   "source": [
    "# Add Two Numbers"
   ]
  },
  {
   "cell_type": "markdown",
   "id": "70d62516",
   "metadata": {},
   "source": [
    "https://leetcode.com/explore/interview/card/top-interview-questions-medium/107/linked-list/783/"
   ]
  },
  {
   "cell_type": "markdown",
   "id": "1efa1dd1",
   "metadata": {},
   "source": [
    "## Problem"
   ]
  },
  {
   "cell_type": "markdown",
   "id": "9fc55fd6",
   "metadata": {},
   "source": [
    "You are given two non-empty linked lists representing two non-negative integers. The digits are stored in reverse order, and each of their nodes contains a single digit. Add the two numbers and return the sum as a linked list.\n",
    "\n",
    "You may assume the two numbers do not contain any leading zero, except the number 0 itself."
   ]
  },
  {
   "cell_type": "markdown",
   "id": "5150688f",
   "metadata": {},
   "source": [
    "Example 1:\\\n",
    "Input: l1 = [2,4,3], l2 = [5,6,4]\\\n",
    "Output: [7,0,8]\\\n",
    "Explanation: 342 + 465 = 807."
   ]
  },
  {
   "cell_type": "markdown",
   "id": "d0af55c9",
   "metadata": {},
   "source": [
    "Example 2:\n",
    "Input: l1 = [0], l2 = [0]\\\n",
    "Output: [0]"
   ]
  },
  {
   "cell_type": "markdown",
   "id": "77bb8699",
   "metadata": {},
   "source": [
    "Example 3:\\\n",
    "Input: l1 = [9,9,9,9,9,9,9], l2 = [9,9,9,9]\\\n",
    "Output: [8,9,9,9,0,0,0,1]"
   ]
  },
  {
   "cell_type": "markdown",
   "id": "c61ce43a",
   "metadata": {},
   "source": [
    "Constraints:\n",
    "\n",
    "The number of nodes in each linked list is in the range [1, 100].\\\n",
    "0 <= Node.val <= 9\\\n",
    "It is guaranteed that the list represents a number that does not have leading zeros."
   ]
  },
  {
   "cell_type": "markdown",
   "id": "c3fd4531",
   "metadata": {},
   "source": [
    "## Thought Process"
   ]
  },
  {
   "cell_type": "markdown",
   "id": "645572b4",
   "metadata": {},
   "source": [
    "Two possible ideas come to mind. \n",
    "\n",
    "First, and the one implemented here, is to iterate through and add each element. One just needs to keep track of the remainder (used as 'temp//10' below) to keep adding. This way, it's the same as to how one normally adds two numbers.\n",
    "\n",
    "A second way, although probably much slower, is to take the linked lists, transform them into numbers (int), add them, and convert the result back to a linked list. This clearly isn't in the spirit of the problem, but at least it's a possible soln."
   ]
  },
  {
   "cell_type": "markdown",
   "id": "96884c74",
   "metadata": {},
   "source": [
    "## Code"
   ]
  },
  {
   "cell_type": "code",
   "execution_count": 133,
   "id": "0c3955a9",
   "metadata": {},
   "outputs": [],
   "source": [
    "# Definition for singly-linked list.\n",
    "class ListNode(object):\n",
    "    def __init__(self, val=0, next=None):\n",
    "        self.val = val\n",
    "        self.next = next\n",
    "# class Solution(object):\n",
    "def addTwoNumbers(l1, l2):\n",
    "    \"\"\"\n",
    "    :type l1: ListNode\n",
    "    :type l2: ListNode\n",
    "    :rtype: ListNode\n",
    "    \"\"\"\n",
    "    temp = l1.val + l2.val\n",
    "    l3 = ListNode(temp%10)\n",
    "    l3_tail = l3\n",
    "    l1 = l1.next\n",
    "    l2 = l2.next\n",
    "    \n",
    "    while l1 is not None and l2 is not None:\n",
    "        temp = l1.val + l2.val + temp//10\n",
    "        l3_tail.next = ListNode(temp%10)\n",
    "        l1 = l1.next\n",
    "        l2 = l2.next\n",
    "        l3_tail = l3_tail.next\n",
    "    if l1 is not None:\n",
    "        while l1 is not None:\n",
    "            temp = l1.val + temp//10\n",
    "            l3_tail.next = ListNode(temp%10)\n",
    "            l1 = l1.next\n",
    "            l3_tail = l3_tail.next\n",
    "    elif l2 is not None:\n",
    "        while l2 is not None:\n",
    "            temp = l2.val + temp//10\n",
    "            l3_tail.next = ListNode(temp%10)\n",
    "            l2 = l2.next\n",
    "            l3_tail = l3_tail.next\n",
    "\n",
    "    if temp//10>0:\n",
    "        l3_tail.next = ListNode(temp//10)\n",
    "\n",
    "    return(l3)"
   ]
  },
  {
   "cell_type": "code",
   "execution_count": 134,
   "id": "74890622",
   "metadata": {},
   "outputs": [],
   "source": [
    "# Helper function to define a linked list\n",
    "def makeLinkedList(l1_list):\n",
    "    l1 = ListNode(l1_list[0])\n",
    "\n",
    "    l1_tail = l1\n",
    "    for i in range(1,len(l1_list)):\n",
    "        l1_tail.next = ListNode(l1_list[i])\n",
    "        l1_tail = l1_tail.next\n",
    "\n",
    "    return l1"
   ]
  },
  {
   "cell_type": "code",
   "execution_count": 135,
   "id": "4ca3c0f6",
   "metadata": {},
   "outputs": [
    {
     "name": "stdout",
     "output_type": "stream",
     "text": [
      "7\n",
      "0\n",
      "8\n"
     ]
    }
   ],
   "source": [
    "l1 = makeLinkedList([2,4,3])\n",
    "l2 = makeLinkedList([5,6,4])\n",
    "l3 = addTwoNumbers(l1, l2)\n",
    "while l3 is not None:\n",
    "    print(l3.val)\n",
    "    l3 = l3.next"
   ]
  },
  {
   "cell_type": "code",
   "execution_count": 136,
   "id": "1664635c",
   "metadata": {},
   "outputs": [
    {
     "name": "stdout",
     "output_type": "stream",
     "text": [
      "0\n"
     ]
    }
   ],
   "source": [
    "l1 = makeLinkedList([0])\n",
    "l2 = makeLinkedList([0])\n",
    "l3 = addTwoNumbers(l1, l2)\n",
    "while l3 is not None:\n",
    "    print(l3.val)\n",
    "    l3 = l3.next"
   ]
  },
  {
   "cell_type": "code",
   "execution_count": 137,
   "id": "411f6075",
   "metadata": {},
   "outputs": [
    {
     "name": "stdout",
     "output_type": "stream",
     "text": [
      "8\n",
      "9\n",
      "9\n",
      "9\n",
      "0\n",
      "0\n",
      "0\n",
      "1\n"
     ]
    }
   ],
   "source": [
    "l1 = makeLinkedList([9,9,9,9,9,9,9])\n",
    "l2 = makeLinkedList([9,9,9,9])\n",
    "l3 = addTwoNumbers(l1, l2)\n",
    "while l3 is not None:\n",
    "    print(l3.val)\n",
    "    l3 = l3.next"
   ]
  },
  {
   "cell_type": "code",
   "execution_count": null,
   "id": "4f765df1",
   "metadata": {},
   "outputs": [],
   "source": []
  },
  {
   "cell_type": "code",
   "execution_count": null,
   "id": "501a995f",
   "metadata": {},
   "outputs": [],
   "source": []
  }
 ],
 "metadata": {
  "kernelspec": {
   "display_name": "Python 3",
   "language": "python",
   "name": "python3"
  },
  "language_info": {
   "codemirror_mode": {
    "name": "ipython",
    "version": 3
   },
   "file_extension": ".py",
   "mimetype": "text/x-python",
   "name": "python",
   "nbconvert_exporter": "python",
   "pygments_lexer": "ipython3",
   "version": "3.8.8"
  }
 },
 "nbformat": 4,
 "nbformat_minor": 5
}
