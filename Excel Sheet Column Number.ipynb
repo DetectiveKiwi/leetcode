{
 "cells": [
  {
   "cell_type": "markdown",
   "id": "0662eaa4",
   "metadata": {},
   "source": [
    "# Excel Sheet Column Number"
   ]
  },
  {
   "cell_type": "markdown",
   "id": "3ac265f8",
   "metadata": {},
   "source": [
    "Given a string columnTitle that represents the column title as appears in an Excel sheet, return its corresponding column number.\n",
    "\n",
    "For example:\n",
    "\n",
    "A -> 1\\\n",
    "B -> 2\\\n",
    "C -> 3\\\n",
    "...\\\n",
    "Z -> 26\\\n",
    "AA -> 27\\\n",
    "AB -> 28 \\\n",
    "...\n",
    "\n",
    "Example 1:\\\n",
    "Input: columnTitle = \"A\"\\\n",
    "Output: 1\n",
    "\n",
    "Example 2:\\\n",
    "Input: columnTitle = \"AB\"\\\n",
    "Output: 28\n",
    "\n",
    "Example 3:\\\n",
    "Input: columnTitle = \"ZY\"\\\n",
    "Output: 701\n",
    "\n",
    "Constraints:\n",
    "\n",
    "1 <= columnTitle.length <= 7\\\n",
    "columnTitle consists only of uppercase English letters.\\\n",
    "columnTitle is in the range [\"A\", \"FXSHRXW\"]."
   ]
  },
  {
   "cell_type": "markdown",
   "id": "a4126298",
   "metadata": {},
   "source": [
    "## Thought process"
   ]
  },
  {
   "cell_type": "markdown",
   "id": "f67a28eb",
   "metadata": {},
   "source": [
    "Straightforward algebra calculation in base 26"
   ]
  },
  {
   "cell_type": "markdown",
   "id": "4ff9f520",
   "metadata": {},
   "source": [
    "## Code"
   ]
  },
  {
   "cell_type": "code",
   "execution_count": 99,
   "id": "1e76364a",
   "metadata": {},
   "outputs": [],
   "source": [
    "def titleToNumber(columnTitle):\n",
    "    \"\"\"\n",
    "    :type columnTitle: str\n",
    "    :rtype: int\n",
    "    \"\"\"\n",
    "    res = 0\n",
    "    for i in range(len(columnTitle)):\n",
    "        res *= 26\n",
    "        res += ord(columnTitle[i]) - 64\n",
    "    return(res)"
   ]
  },
  {
   "cell_type": "code",
   "execution_count": 100,
   "id": "003ae275",
   "metadata": {},
   "outputs": [
    {
     "data": {
      "text/plain": [
       "1"
      ]
     },
     "execution_count": 100,
     "metadata": {},
     "output_type": "execute_result"
    }
   ],
   "source": [
    "columnTitle = \"A\"\n",
    "\n",
    "titleToNumber(columnTitle)"
   ]
  },
  {
   "cell_type": "code",
   "execution_count": 101,
   "id": "0bd537ad",
   "metadata": {},
   "outputs": [
    {
     "data": {
      "text/plain": [
       "28"
      ]
     },
     "execution_count": 101,
     "metadata": {},
     "output_type": "execute_result"
    }
   ],
   "source": [
    "columnTitle = \"AB\"\n",
    "\n",
    "titleToNumber(columnTitle)"
   ]
  },
  {
   "cell_type": "code",
   "execution_count": 103,
   "id": "b8e11dff",
   "metadata": {},
   "outputs": [
    {
     "data": {
      "text/plain": [
       "701"
      ]
     },
     "execution_count": 103,
     "metadata": {},
     "output_type": "execute_result"
    }
   ],
   "source": [
    "columnTitle = \"ZY\"\n",
    "\n",
    "titleToNumber(columnTitle)"
   ]
  },
  {
   "cell_type": "code",
   "execution_count": null,
   "id": "02a9b688",
   "metadata": {},
   "outputs": [],
   "source": []
  },
  {
   "cell_type": "code",
   "execution_count": null,
   "id": "86862fbc",
   "metadata": {},
   "outputs": [],
   "source": []
  },
  {
   "cell_type": "code",
   "execution_count": null,
   "id": "0db331a4",
   "metadata": {},
   "outputs": [],
   "source": []
  }
 ],
 "metadata": {
  "kernelspec": {
   "display_name": "Python 3",
   "language": "python",
   "name": "python3"
  },
  "language_info": {
   "codemirror_mode": {
    "name": "ipython",
    "version": 3
   },
   "file_extension": ".py",
   "mimetype": "text/x-python",
   "name": "python",
   "nbconvert_exporter": "python",
   "pygments_lexer": "ipython3",
   "version": "3.8.8"
  }
 },
 "nbformat": 4,
 "nbformat_minor": 5
}
