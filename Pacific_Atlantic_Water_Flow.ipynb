{
 "cells": [
  {
   "cell_type": "markdown",
   "id": "1ee8c00c",
   "metadata": {},
   "source": [
    "# Pacific Atlantic Water Flow"
   ]
  },
  {
   "cell_type": "markdown",
   "id": "e6854c16",
   "metadata": {},
   "source": [
    "https://leetcode.com/problems/pacific-atlantic-water-flow/"
   ]
  },
  {
   "cell_type": "markdown",
   "id": "e0e099d1",
   "metadata": {},
   "source": [
    "### Problem"
   ]
  },
  {
   "cell_type": "markdown",
   "id": "994d62f9",
   "metadata": {},
   "source": [
    "There is an m x n rectangular island that borders both the Pacific Ocean and Atlantic Ocean. The Pacific Ocean touches the island's left and top edges, and the Atlantic Ocean touches the island's right and bottom edges.\n",
    "\n",
    "The island is partitioned into a grid of square cells. You are given an m x n integer matrix heights where heights[r][c] represents the height above sea level of the cell at coordinate (r, c).\n",
    "\n",
    "The island receives a lot of rain, and the rain water can flow to neighboring cells directly north, south, east, and west if the neighboring cell's height is less than or equal to the current cell's height. Water can flow from any cell adjacent to an ocean into the ocean.\n",
    "\n",
    "Return a 2D list of grid coordinates result where result[i] = [ri, ci] denotes that rain water can flow from cell (ri, ci) to both the Pacific and Atlantic oceans."
   ]
  },
  {
   "cell_type": "markdown",
   "id": "e27d1996",
   "metadata": {},
   "source": [
    "### Constraints"
   ]
  },
  {
   "cell_type": "markdown",
   "id": "dbe409b5",
   "metadata": {},
   "source": [
    "m == heights.length\n",
    "\n",
    "n == heights[r].length\n",
    "\n",
    "1 <= m, n <= 200\n",
    "\n",
    "0 <= heights[r][c] <= 105"
   ]
  },
  {
   "cell_type": "markdown",
   "id": "de264028",
   "metadata": {},
   "source": [
    "### Initial Thought Process"
   ]
  },
  {
   "cell_type": "markdown",
   "id": "a9eb86dd",
   "metadata": {},
   "source": [
    "To start, we need some method that checks each cell only once such that the timing will scale at worst m*n\n",
    "\n",
    "In principle, this could be very fast by checking around the boundary and ignoring anything that reaches a ridge line.\n",
    "\n",
    "For example, if there's a ridgeline that is tallest along the diagonal, then it's pointless to check most cells\n",
    "\n",
    "One initial note, we know that the bottom left and top right corner are guaranteed to already flow into both oceans"
   ]
  },
  {
   "cell_type": "markdown",
   "id": "be28baee",
   "metadata": {},
   "source": [
    "For a first pass, I'll check every cell once, and ignore the much more optimal solution of ignoring most cells"
   ]
  },
  {
   "cell_type": "markdown",
   "id": "4ff3bbf3",
   "metadata": {},
   "source": [
    "### Answer Thought Process"
   ]
  },
  {
   "cell_type": "markdown",
   "id": "1eee70be",
   "metadata": {},
   "source": [
    "My method essentially updates each value one at a time starting with the lowest points.\n",
    "\n",
    "If the lowest cells are fully surrounded by taller cells, then I label them with '-'\n",
    "\n",
    "If they can flow into either ocean, then I label the cells with the respective ocean ('p':Pacific,'a':Atlantic, 'b':both).\n",
    "\n",
    "I then move onto the next tallest points. With this subselection, they adopt any new value ('p','a','b') of any cell lower than them. This guarantees that if a neighboring cell is lower than the current cell, then it will quickly adopt the neighboring cells value.\n",
    "\n",
    "For each step, I start by checking if any neighboring cell is lower, and only afterwards if they are equal. This guarantees that there are no race conditions between equal height cells.\n",
    "\n",
    "This method is nice since it will find ALL cells that can flow to the Pacific only, Atlantic only, neither, or both oceans."
   ]
  },
  {
   "cell_type": "markdown",
   "id": "ed981bb9",
   "metadata": {},
   "source": [
    "## Gut of Code"
   ]
  },
  {
   "cell_type": "code",
   "execution_count": 11,
   "id": "dd1ec403",
   "metadata": {},
   "outputs": [],
   "source": [
    "import numpy as np"
   ]
  },
  {
   "cell_type": "code",
   "execution_count": 64,
   "id": "948fd31d",
   "metadata": {},
   "outputs": [],
   "source": [
    "def get_oceans(grid, return_all_cells=False):\n",
    "    '''\n",
    "    Finds where the water of each cell ends up\n",
    "    \n",
    "    Parameters\n",
    "    ----------\n",
    "    grid : 2d integer array of heights with minimum height=0\n",
    "    return_all_cells : flag indicating whether to return the final location of water from every cell\n",
    "    \n",
    "    Returns\n",
    "    ----------\n",
    "    both_oceans : list of 2d coordinates desginating which cells lead to both oceans\n",
    "    grid_water_no_pad : if return_all_cells, grid of final locations of water\n",
    "    '''\n",
    "    def _pad(grid):\n",
    "        '''\n",
    "        Pads the initial grid with zeros around all edges\n",
    "        \n",
    "        Parameters\n",
    "        ----------\n",
    "        grid : 2d array of heights of size m by n\n",
    "        \n",
    "        Returns\n",
    "        ----------\n",
    "        new_grid : 2d array of heights with size m+2 by n+2\n",
    "        '''\n",
    "        new_grid = np.zeros((grid.shape[0]+2, grid.shape[1]+2), dtype=int)\n",
    "        new_grid[1:-1, 1:-1] = grid\n",
    "        return(new_grid)\n",
    "    \n",
    "    def _init_water(shape):\n",
    "        '''\n",
    "        Initializes a grid of water where everything in the middle is known \n",
    "        and the boundary is known Pacific or Atlantic ocean\n",
    "        \n",
    "        Parameters\n",
    "        ----------\n",
    "        shape : shape of water grid (should be size of padded grid)\n",
    "        \n",
    "        Returns\n",
    "        ----------\n",
    "        grid_water : 2d array of values of water\n",
    "        '''\n",
    "        grid_water = np.array([['-' for i in range(shape[1])] for j in range(shape[0])])\n",
    "        grid_water[:1,:] = 'p'\n",
    "        grid_water[:,:1] = 'p'\n",
    "        grid_water[-1:,:] = 'a'\n",
    "        grid_water[:,-1:] = 'a'\n",
    "        grid_water[-1,0] = 'b'\n",
    "        grid_water[0,-1] = 'b'\n",
    "        return(grid_water)\n",
    "    \n",
    "    def _combine_water(water, water_sur):\n",
    "        '''\n",
    "        Combines the values of the central cell with surrounding cells\n",
    "        \n",
    "        Parameters\n",
    "        ----------\n",
    "        water : water value of central cell\n",
    "        water_sur : water values of surrounding cells\n",
    "        \n",
    "        Returns\n",
    "        ----------\n",
    "        char : a single character of the combined water\n",
    "        '''\n",
    "        water_tot = np.insert(water_sur, 0, water)\n",
    "        if np.any(water_tot=='b'):\n",
    "            return('b')\n",
    "        else:\n",
    "            water_tot = np.unique(water_tot)\n",
    "            water_tot = water_tot[water_tot!='-']\n",
    "            if len(water_tot)==2:\n",
    "                return('b')\n",
    "            elif len(water_tot)==1:\n",
    "                return(water_tot[0])\n",
    "        return('-')\n",
    "    \n",
    "    #initialize values\n",
    "    grid_pad = _pad(grid)\n",
    "    grid_water = _init_water(grid_pad.shape)\n",
    "    \n",
    "    for h in np.sort(np.unique(grid)):\n",
    "        idx_all = np.argwhere(grid==h)\n",
    "        check_flat = True\n",
    "        while(check_flat): #rare case when multiple heights are the same in a row\n",
    "            check_flat = False\n",
    "            for idx in idx_all:\n",
    "                temp_x = np.array([idx[0]+1, idx[0]+2, idx[0]+1, idx[0]])\n",
    "                temp_y = np.array([idx[1]+2, idx[1]+1, idx[1], idx[1]+1])\n",
    "\n",
    "                water_sur = grid_water[temp_x, temp_y][h>grid_pad[temp_x, temp_y]]\n",
    "                water = grid_water[idx[0]+1, idx[1]+1]\n",
    "\n",
    "                grid_water[idx[0]+1, idx[1]+1] = _combine_water(water, water_sur)\n",
    "                \n",
    "                water_sur = grid_water[temp_x, temp_y][h==grid_pad[temp_x, temp_y]]\n",
    "                water = grid_water[idx[0]+1, idx[1]+1]\n",
    "\n",
    "                combined_water = _combine_water(water, water_sur)\n",
    "                grid_water[idx[0]+1, idx[1]+1] = combined_water\n",
    "\n",
    "                if water!=combined_water:\n",
    "                    check_flat = True\n",
    "                    \n",
    "    grid_water_no_pad = grid_water[1:-1,1:-1]\n",
    "    \n",
    "    both_oceans = np.argwhere(grid_water_no_pad=='b')\n",
    "    \n",
    "    if return_all_cells:\n",
    "        return both_oceans, grid_water_no_pad\n",
    "    else:\n",
    "        return both_oceans"
   ]
  },
  {
   "cell_type": "markdown",
   "id": "ae9a41ce",
   "metadata": {},
   "source": [
    "## Testing Answer"
   ]
  },
  {
   "cell_type": "code",
   "execution_count": 67,
   "id": "a1c24619",
   "metadata": {},
   "outputs": [
    {
     "data": {
      "text/plain": [
       "array([[2, 2, 0, 0, 3, 2, 3, 2],\n",
       "       [1, 0, 4, 4, 3, 3, 2, 0],\n",
       "       [3, 3, 0, 4, 0, 3, 1, 3],\n",
       "       [4, 3, 4, 2, 3, 3, 4, 1],\n",
       "       [3, 3, 1, 4, 0, 1, 3, 0],\n",
       "       [2, 3, 2, 0, 1, 0, 1, 4],\n",
       "       [0, 2, 4, 3, 4, 1, 1, 0]])"
      ]
     },
     "execution_count": 67,
     "metadata": {},
     "output_type": "execute_result"
    }
   ],
   "source": [
    "# Simple case to visualize\n",
    "grid = np.random.randint(low=0, high=5, size=(7,8))\n",
    "grid"
   ]
  },
  {
   "cell_type": "code",
   "execution_count": 68,
   "id": "4e3acfe2",
   "metadata": {},
   "outputs": [
    {
     "data": {
      "text/plain": [
       "array([['p', 'p', 'p', 'p', 'b', 'p', 'b', 'b'],\n",
       "       ['p', '-', 'b', 'b', 'b', 'b', 'a', 'a'],\n",
       "       ['b', 'b', '-', 'b', '-', 'b', '-', 'a'],\n",
       "       ['b', 'b', 'b', '-', 'b', 'b', 'b', 'a'],\n",
       "       ['b', 'b', '-', '-', '-', '-', 'a', 'a'],\n",
       "       ['b', 'b', '-', '-', '-', '-', '-', 'a'],\n",
       "       ['b', 'b', 'b', 'a', 'a', 'a', 'a', 'a']], dtype='<U1')"
      ]
     },
     "execution_count": 68,
     "metadata": {},
     "output_type": "execute_result"
    }
   ],
   "source": [
    "_, water = get_oceans(grid, return_all_cells=True)\n",
    "water"
   ]
  },
  {
   "cell_type": "code",
   "execution_count": 69,
   "id": "d9951f5a",
   "metadata": {},
   "outputs": [],
   "source": [
    "# Most computationally difficult condition under constraints\n",
    "grid = np.random.randint(low=0, high=100000, size=(200,200))"
   ]
  },
  {
   "cell_type": "code",
   "execution_count": 70,
   "id": "7d2de58d",
   "metadata": {},
   "outputs": [
    {
     "data": {
      "text/plain": [
       "array([[  0, 199],\n",
       "       [  1, 198],\n",
       "       [  1, 199],\n",
       "       [197,   1],\n",
       "       [197,   2],\n",
       "       [198,   2],\n",
       "       [199,   0],\n",
       "       [199,   1]])"
      ]
     },
     "execution_count": 70,
     "metadata": {},
     "output_type": "execute_result"
    }
   ],
   "source": [
    "get_oceans(grid, return_all_cells=False)"
   ]
  },
  {
   "cell_type": "code",
   "execution_count": 71,
   "id": "6083837a",
   "metadata": {},
   "outputs": [
    {
     "data": {
      "text/plain": [
       "array([[ 0,  1,  2,  3,  4,  5,  6,  7],\n",
       "       [ 1,  2,  3,  4,  5,  6,  7,  8],\n",
       "       [ 2,  3,  4,  5,  6,  7,  8,  9],\n",
       "       [ 3,  4,  5,  6,  7,  8,  9, 10],\n",
       "       [ 4,  5,  6,  7,  8,  9, 10, 11],\n",
       "       [ 5,  6,  7,  8,  9, 10, 11, 12],\n",
       "       [ 6,  7,  8,  9, 10, 11, 12, 13]])"
      ]
     },
     "execution_count": 71,
     "metadata": {},
     "output_type": "execute_result"
    }
   ],
   "source": [
    "# Non random case with a consistent gradient\n",
    "grid = np.arange(7)[:,None]+np.arange(8)[None,:]\n",
    "grid"
   ]
  },
  {
   "cell_type": "code",
   "execution_count": 72,
   "id": "fce441df",
   "metadata": {},
   "outputs": [
    {
     "data": {
      "text/plain": [
       "array([['p', 'p', 'p', 'p', 'p', 'p', 'p', 'b'],\n",
       "       ['p', 'p', 'p', 'p', 'p', 'p', 'p', 'b'],\n",
       "       ['p', 'p', 'p', 'p', 'p', 'p', 'p', 'b'],\n",
       "       ['p', 'p', 'p', 'p', 'p', 'p', 'p', 'b'],\n",
       "       ['p', 'p', 'p', 'p', 'p', 'p', 'p', 'b'],\n",
       "       ['p', 'p', 'p', 'p', 'p', 'p', 'p', 'b'],\n",
       "       ['b', 'b', 'b', 'b', 'b', 'b', 'b', 'b']], dtype='<U1')"
      ]
     },
     "execution_count": 72,
     "metadata": {},
     "output_type": "execute_result"
    }
   ],
   "source": [
    "_, water = get_oceans(grid, return_all_cells=True)\n",
    "water"
   ]
  },
  {
   "cell_type": "code",
   "execution_count": null,
   "id": "41cacf93",
   "metadata": {},
   "outputs": [],
   "source": []
  },
  {
   "cell_type": "code",
   "execution_count": null,
   "id": "9202243d",
   "metadata": {},
   "outputs": [],
   "source": []
  }
 ],
 "metadata": {
  "kernelspec": {
   "display_name": "Python 3",
   "language": "python",
   "name": "python3"
  },
  "language_info": {
   "codemirror_mode": {
    "name": "ipython",
    "version": 3
   },
   "file_extension": ".py",
   "mimetype": "text/x-python",
   "name": "python",
   "nbconvert_exporter": "python",
   "pygments_lexer": "ipython3",
   "version": "3.8.8"
  }
 },
 "nbformat": 4,
 "nbformat_minor": 5
}
