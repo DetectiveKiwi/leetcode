{
 "cells": [
  {
   "cell_type": "markdown",
   "id": "23857208",
   "metadata": {},
   "source": [
    "# 1631. Path With Minimum Effort"
   ]
  },
  {
   "cell_type": "markdown",
   "id": "d1ba5b3b",
   "metadata": {},
   "source": [
    "You are a hiker preparing for an upcoming hike. You are given heights, a 2D array of size rows x columns, where heights[row][col] represents the height of cell (row, col). You are situated in the top-left cell, (0, 0), and you hope to travel to the bottom-right cell, (rows-1, columns-1) (i.e., 0-indexed). You can move up, down, left, or right, and you wish to find a route that requires the minimum effort.\n",
    "\n",
    "A route's effort is the maximum absolute difference in heights between two consecutive cells of the route.\n",
    "\n",
    "Return the minimum effort required to travel from the top-left cell to the bottom-right cell.\n",
    "\n",
    "Example 1:\\\n",
    "Input: heights = [[1,2,2],[3,8,2],[5,3,5]]\\\n",
    "Output: 2\\\n",
    "Explanation: The route of [1,3,5,3,5] has a maximum absolute difference of 2 in consecutive cells.\\\n",
    "This is better than the route of [1,2,2,2,5], where the maximum absolute difference is 3.\\\n",
    "\n",
    "Example 2:\\\n",
    "Input: heights = [[1,2,3],[3,8,4],[5,3,5]]\\\n",
    "Output: 1\\\n",
    "Explanation: The route of [1,2,3,4,5] has a maximum absolute difference of 1 in consecutive cells, which is better than route [1,3,5,3,5].\\\n",
    "\n",
    "Example 3:\\\n",
    "Input: heights = [[1,2,1,1,1],[1,2,1,2,1],[1,2,1,2,1],[1,2,1,2,1],[1,1,1,2,1]]\\\n",
    "Output: 0\\\n",
    "Explanation: This route does not require any effort.\n",
    "\n",
    "Constraints:\\\n",
    "rows == heights.length\\\n",
    "columns == heights[i].length\\\n",
    "1 <= rows, columns <= 100\\\n",
    "1 <= heights[i][j] <= 106"
   ]
  },
  {
   "cell_type": "markdown",
   "id": "9689d338",
   "metadata": {},
   "source": [
    "## Thought process"
   ]
  },
  {
   "cell_type": "markdown",
   "id": "ccdb99b3",
   "metadata": {},
   "source": [
    "I went through several iterations of thought processes only to arrive at a heap solution. The logic was similar throughout, using slightly different data structures.\n",
    "\n",
    "Basically, start in the upper left corner (add this to the heap). For the current element from the heap, check all 4 adjacent squares (ignoring edges). If the adjacent square can be reached via the current element with less effort, add this new square to the heap. Eventually you reach the bottom right corner, and this process can be exited early"
   ]
  },
  {
   "cell_type": "markdown",
   "id": "439612fa",
   "metadata": {},
   "source": [
    "## Code"
   ]
  },
  {
   "cell_type": "code",
   "execution_count": 405,
   "id": "acde614b",
   "metadata": {},
   "outputs": [],
   "source": [
    "def minimumEffortPath(heights):\n",
    "    \"\"\"\n",
    "    :type heights: List[List[int]]\n",
    "    :rtype: int\n",
    "    \"\"\"\n",
    "    import heapq\n",
    "    val = [[10000000 for j in range(len(heights[0]))] for i in range(len(heights))]\n",
    "    \n",
    "    val[0][0] = 0\n",
    "    check = []\n",
    "    heapq.heappush(check,[0,0,0])\n",
    "    res = 0\n",
    "    \n",
    "    while len(check)>0:\n",
    "        e,i,j = heapq.heappop(check)\n",
    "        res = max([e,res])\n",
    "        \n",
    "        if i==len(heights)-1 and j==len(heights[0])-1:\n",
    "            return(e)\n",
    "        elif e > val[i][j]:\n",
    "            continue\n",
    "        else:\n",
    "            if i>0:\n",
    "                effort = max([abs(heights[i][j] - heights[i-1][j]), val[i][j]])\n",
    "                if effort < val[i-1][j]:\n",
    "                    val[i-1][j] = effort\n",
    "                    heapq.heappush(check,[effort,i-1,j])\n",
    "                    \n",
    "            if i<len(heights)-1:\n",
    "                effort = max([abs(heights[i][j] - heights[i+1][j]), val[i][j]])\n",
    "                if effort < val[i+1][j]:\n",
    "                    val[i+1][j] = effort\n",
    "                    heapq.heappush(check,[effort,i+1,j])\n",
    "                    \n",
    "            if j>0:\n",
    "                effort = max([abs(heights[i][j] - heights[i][j-1]), val[i][j]])\n",
    "                if effort < val[i][j-1]:\n",
    "                    val[i][j-1] = effort\n",
    "                    heapq.heappush(check,[effort,i,j-1])\n",
    "                    \n",
    "            if j<len(heights[0])-1:\n",
    "                effort = max([abs(heights[i][j] - heights[i][j+1]), val[i][j]])\n",
    "                if effort < val[i][j+1]:\n",
    "                    val[i][j+1] = effort\n",
    "                    heapq.heappush(check,[effort,i,j+1])\n",
    "\n",
    "        \n",
    "    return(val[-1][-1])"
   ]
  },
  {
   "cell_type": "code",
   "execution_count": 406,
   "id": "a3e6c76c",
   "metadata": {},
   "outputs": [
    {
     "data": {
      "text/plain": [
       "2"
      ]
     },
     "execution_count": 406,
     "metadata": {},
     "output_type": "execute_result"
    }
   ],
   "source": [
    "heights = [[1,2,2],[3,8,2],[5,3,5]]\n",
    "minimumEffortPath(heights)"
   ]
  },
  {
   "cell_type": "code",
   "execution_count": 407,
   "id": "c4909985",
   "metadata": {},
   "outputs": [
    {
     "data": {
      "text/plain": [
       "0"
      ]
     },
     "execution_count": 407,
     "metadata": {},
     "output_type": "execute_result"
    }
   ],
   "source": [
    "heights = [[1]]\n",
    "minimumEffortPath(heights)"
   ]
  },
  {
   "cell_type": "code",
   "execution_count": 408,
   "id": "44731e33",
   "metadata": {},
   "outputs": [
    {
     "data": {
      "text/plain": [
       "1"
      ]
     },
     "execution_count": 408,
     "metadata": {},
     "output_type": "execute_result"
    }
   ],
   "source": [
    "heights = [[1,2,3],[3,8,4],[5,3,5]]\n",
    "minimumEffortPath(heights)"
   ]
  },
  {
   "cell_type": "code",
   "execution_count": 409,
   "id": "82faac93",
   "metadata": {},
   "outputs": [
    {
     "data": {
      "text/plain": [
       "0"
      ]
     },
     "execution_count": 409,
     "metadata": {},
     "output_type": "execute_result"
    }
   ],
   "source": [
    "heights = [[1,2,1,1,1],[1,2,1,2,1],[1,2,1,2,1],[1,2,1,2,1],[1,1,1,2,1]]\n",
    "minimumEffortPath(heights)"
   ]
  },
  {
   "cell_type": "code",
   "execution_count": 410,
   "id": "5aaaef46",
   "metadata": {},
   "outputs": [
    {
     "data": {
      "text/plain": [
       "9"
      ]
     },
     "execution_count": 410,
     "metadata": {},
     "output_type": "execute_result"
    }
   ],
   "source": [
    "heights = [[1,10,6,7,9,10,4,9]]\n",
    "minimumEffortPath(heights)"
   ]
  },
  {
   "cell_type": "code",
   "execution_count": null,
   "id": "60d876c4",
   "metadata": {},
   "outputs": [],
   "source": []
  },
  {
   "cell_type": "code",
   "execution_count": null,
   "id": "b9db0cfb",
   "metadata": {},
   "outputs": [],
   "source": []
  },
  {
   "cell_type": "code",
   "execution_count": null,
   "id": "32ee3ff8",
   "metadata": {},
   "outputs": [],
   "source": []
  }
 ],
 "metadata": {
  "kernelspec": {
   "display_name": "Python 3",
   "language": "python",
   "name": "python3"
  },
  "language_info": {
   "codemirror_mode": {
    "name": "ipython",
    "version": 3
   },
   "file_extension": ".py",
   "mimetype": "text/x-python",
   "name": "python",
   "nbconvert_exporter": "python",
   "pygments_lexer": "ipython3",
   "version": "3.8.8"
  }
 },
 "nbformat": 4,
 "nbformat_minor": 5
}
