{
 "cells": [
  {
   "cell_type": "markdown",
   "id": "ed0553cc",
   "metadata": {},
   "source": [
    "# 1048. Longest String Chain\n"
   ]
  },
  {
   "cell_type": "markdown",
   "id": "cfd6c835",
   "metadata": {},
   "source": [
    "You are given an array of words where each word consists of lowercase English letters.\n",
    "\n",
    "wordA is a predecessor of wordB if and only if we can insert exactly one letter anywhere in wordA without changing the order of the other characters to make it equal to wordB.\n",
    "\n",
    "For example, \"abc\" is a predecessor of \"abac\", while \"cba\" is not a predecessor of \"bcad\".\n",
    "A word chain is a sequence of words [word1, word2, ..., wordk] with k >= 1, where word1 is a predecessor of word2, word2 is a predecessor of word3, and so on. A single word is trivially a word chain with k == 1.\n",
    "\n",
    "Return the length of the longest possible word chain with words chosen from the given list of words.\n",
    "\n",
    " \n",
    "\n",
    "Example 1:\n",
    "\n",
    "Input: words = [\"a\",\"b\",\"ba\",\"bca\",\"bda\",\"bdca\"]\\\n",
    "Output: 4\\\n",
    "Explanation: One of the longest word chains is [\"a\",\"ba\",\"bda\",\"bdca\"].\\\n",
    "Example 2:\n",
    "\n",
    "Input: words = [\"xbc\",\"pcxbcf\",\"xb\",\"cxbc\",\"pcxbc\"]\\\n",
    "Output: 5\\\n",
    "Explanation: All the words can be put in a word chain [\"xb\", \"xbc\", \"cxbc\", \"pcxbc\", \"pcxbcf\"].\\\n",
    "Example 3:\n",
    "\n",
    "Input: words = [\"abcd\",\"dbqca\"]\\\n",
    "Output: 1\\\n",
    "Explanation: The trivial word chain [\"abcd\"] is one of the longest word chains.\\\n",
    "[\"abcd\",\"dbqca\"] is not a valid word chain because the ordering of the letters is changed.\n",
    "\n",
    "Constraints:\n",
    "\n",
    "1 <= words.length <= 1000\\\n",
    "1 <= words[i].length <= 16\\\n",
    "words[i] only consists of lowercase English letters."
   ]
  },
  {
   "cell_type": "markdown",
   "id": "675ae4a9",
   "metadata": {},
   "source": [
    "## Thought Process"
   ]
  },
  {
   "cell_type": "markdown",
   "id": "a5d6feec",
   "metadata": {},
   "source": [
    "First sort the list of words based on the lengths (since we only need to compare to words with one less character). Then, run through the list of sorted words. For the smallest len words, they will automatically be parsed with a \"value\" of 1. Afterwards, for each word, check if it is a predecessor of any already checked words. If so, update the value of this word. Keep in mind that words may be updated multiple times since there are multiple paths. Thus, one should always check with the currently stored value."
   ]
  },
  {
   "cell_type": "markdown",
   "id": "1437e019",
   "metadata": {},
   "source": [
    "## Code"
   ]
  },
  {
   "cell_type": "code",
   "execution_count": 486,
   "id": "1ce1c065",
   "metadata": {},
   "outputs": [],
   "source": [
    "def longestStrChain(words):\n",
    "    \"\"\"\n",
    "    :type words: List[str]\n",
    "    :rtype: int\n",
    "    \"\"\"\n",
    "    word_count = {}\n",
    "    \n",
    "    for word in sorted(words, key=len):\n",
    "        word_count[word] = 1\n",
    "        \n",
    "        for i in range(len(word)):\n",
    "            small_word = word[:i] + word[i+1:]\n",
    "            \n",
    "            if small_word in word_count:\n",
    "                word_count[word] = max([word_count[word], word_count[small_word]+1])\n",
    "\n",
    "    return max(word_count.values())"
   ]
  },
  {
   "cell_type": "code",
   "execution_count": 488,
   "id": "6b330c8d",
   "metadata": {},
   "outputs": [
    {
     "data": {
      "text/plain": [
       "4"
      ]
     },
     "execution_count": 488,
     "metadata": {},
     "output_type": "execute_result"
    }
   ],
   "source": [
    "words = [\"a\",\"ab\",\"ac\",\"bd\",\"abc\",\"abd\",\"abdd\"]\n",
    "longestStrChain(words)"
   ]
  },
  {
   "cell_type": "code",
   "execution_count": 489,
   "id": "4a72612d",
   "metadata": {},
   "outputs": [
    {
     "data": {
      "text/plain": [
       "3"
      ]
     },
     "execution_count": 489,
     "metadata": {},
     "output_type": "execute_result"
    }
   ],
   "source": [
    "words = [\"a\", \"ab\", \"abc\"]\n",
    "longestStrChain(words)"
   ]
  },
  {
   "cell_type": "code",
   "execution_count": 490,
   "id": "998032ed",
   "metadata": {},
   "outputs": [
    {
     "data": {
      "text/plain": [
       "5"
      ]
     },
     "execution_count": 490,
     "metadata": {},
     "output_type": "execute_result"
    }
   ],
   "source": [
    "words = [\"a\", \"ab\", \"abc\", \"abcd\",\"abd\",\"abde\",\"abdef\"]\n",
    "longestStrChain(words)"
   ]
  },
  {
   "cell_type": "code",
   "execution_count": 491,
   "id": "918b7098",
   "metadata": {},
   "outputs": [
    {
     "data": {
      "text/plain": [
       "2"
      ]
     },
     "execution_count": 491,
     "metadata": {},
     "output_type": "execute_result"
    }
   ],
   "source": [
    "words = [\"a\", \"abc\", \"abcd\"]\n",
    "longestStrChain(words)"
   ]
  },
  {
   "cell_type": "code",
   "execution_count": 492,
   "id": "d6ff1e35",
   "metadata": {},
   "outputs": [
    {
     "data": {
      "text/plain": [
       "4"
      ]
     },
     "execution_count": 492,
     "metadata": {},
     "output_type": "execute_result"
    }
   ],
   "source": [
    "words = [\"a\",\"b\",\"ba\",\"bca\",\"bda\",\"bdca\"]\n",
    "\n",
    "longestStrChain(words)"
   ]
  },
  {
   "cell_type": "code",
   "execution_count": 493,
   "id": "1dc41823",
   "metadata": {},
   "outputs": [
    {
     "data": {
      "text/plain": [
       "5"
      ]
     },
     "execution_count": 493,
     "metadata": {},
     "output_type": "execute_result"
    }
   ],
   "source": [
    "words = [\"xbc\",\"pcxbcf\",\"xb\",\"cxbc\",\"pcxbc\"]\n",
    "\n",
    "longestStrChain(words)"
   ]
  },
  {
   "cell_type": "code",
   "execution_count": null,
   "id": "2d58c880",
   "metadata": {},
   "outputs": [],
   "source": []
  },
  {
   "cell_type": "code",
   "execution_count": null,
   "id": "0ef82fca",
   "metadata": {},
   "outputs": [],
   "source": []
  }
 ],
 "metadata": {
  "kernelspec": {
   "display_name": "Python 3",
   "language": "python",
   "name": "python3"
  },
  "language_info": {
   "codemirror_mode": {
    "name": "ipython",
    "version": 3
   },
   "file_extension": ".py",
   "mimetype": "text/x-python",
   "name": "python",
   "nbconvert_exporter": "python",
   "pygments_lexer": "ipython3",
   "version": "3.8.8"
  }
 },
 "nbformat": 4,
 "nbformat_minor": 5
}
