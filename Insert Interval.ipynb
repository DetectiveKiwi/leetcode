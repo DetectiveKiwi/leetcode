{
 "cells": [
  {
   "cell_type": "markdown",
   "id": "cb71de62",
   "metadata": {},
   "source": [
    "# Insert Interval"
   ]
  },
  {
   "cell_type": "markdown",
   "id": "b53ce5ea",
   "metadata": {},
   "source": [
    "https://leetcode.com/problems/insert-interval/"
   ]
  },
  {
   "cell_type": "markdown",
   "id": "da567d86",
   "metadata": {},
   "source": [
    "## Problem"
   ]
  },
  {
   "cell_type": "markdown",
   "id": "e987bbf4",
   "metadata": {},
   "source": [
    "You are given an array of non-overlapping intervals intervals where intervals[i] = [starti, endi] represent the start and the end of the ith interval and intervals is sorted in ascending order by starti. You are also given an interval newInterval = [start, end] that represents the start and end of another interval.\n",
    "\n",
    "Insert newInterval into intervals such that intervals is still sorted in ascending order by starti and intervals still does not have any overlapping intervals (merge overlapping intervals if necessary).\n",
    "\n",
    "Return intervals after the insertion.\n",
    "\n",
    "Example 1: \\\n",
    "Input: intervals = [[1,3],[6,9]], newInterval = [2,5]\\\n",
    "Output: [[1,5],[6,9]]\n",
    "\n",
    "Example 2: \\\n",
    "Input: intervals = [[1,2],[3,5],[6,7],[8,10],[12,16]], newInterval = [4,8] \\\n",
    "Output: [[1,2],[3,10],[12,16]]\\\n",
    "Explanation: Because the new interval [4,8] overlaps with [3,5],[6,7],[8,10]."
   ]
  },
  {
   "cell_type": "markdown",
   "id": "4570b1c4",
   "metadata": {},
   "source": [
    "## Constraints"
   ]
  },
  {
   "cell_type": "markdown",
   "id": "99eeb122",
   "metadata": {},
   "source": [
    "0 <= intervals.length <= 104\\\n",
    "intervals[i].length == 2\\\n",
    "0 <= starti <= endi <= 105\\\n",
    "intervals is sorted by starti in ascending order.\\\n",
    "newInterval.length == 2\\\n",
    "0 <= start <= end <= 105"
   ]
  },
  {
   "cell_type": "markdown",
   "id": "50485368",
   "metadata": {},
   "source": [
    "## Initial Thought Process"
   ]
  },
  {
   "cell_type": "markdown",
   "id": "5c0c9dbb",
   "metadata": {},
   "source": [
    "Need to run through all intervals to check if the first new number is greater than the first number in each interval and if the second number is less than the second number of each interval afterwards. Then can merge everything afterwards"
   ]
  },
  {
   "cell_type": "markdown",
   "id": "baf132bf",
   "metadata": {},
   "source": [
    "## Gut of Code"
   ]
  },
  {
   "cell_type": "code",
   "execution_count": 129,
   "id": "aa9df8d1",
   "metadata": {},
   "outputs": [],
   "source": [
    "def insert(intervals, newInterval):\n",
    "    \"\"\"\n",
    "    :type intervals: List[List[int]]\n",
    "    :type newInterval: List[int]\n",
    "    :rtype: List[List[int]]\n",
    "    \"\"\"\n",
    "    if len(intervals)==0:\n",
    "        intervals.insert(0,newInterval)\n",
    "        return(intervals)\n",
    "    elif newInterval[0] > intervals[-1][1]:\n",
    "        intervals.insert(len(intervals), newInterval)\n",
    "        return(intervals)\n",
    "    \n",
    "    for i,val in enumerate(intervals):\n",
    "        if newInterval[0] > val[1]:\n",
    "            continue\n",
    "        elif newInterval[1] < val[0]:\n",
    "            intervals.insert(i, newInterval)\n",
    "            break\n",
    "        elif newInterval[0] < val[0]:\n",
    "            if newInterval[1] <= val[1]:\n",
    "                intervals[i][0] = newInterval[0]\n",
    "                break\n",
    "            else:\n",
    "                intervals.pop(i)\n",
    "                if i==len(intervals) or newInterval[1] < intervals[i][0]:\n",
    "                    intervals.insert(i, newInterval)\n",
    "                    break\n",
    "                else:\n",
    "                    while i!=len(intervals) and newInterval[1]>=intervals[i][0]:\n",
    "                        if newInterval[1]<=intervals[i][1]:\n",
    "                            intervals.insert(i,[newInterval[0],intervals[i][1]])\n",
    "                            intervals.pop(i+1)\n",
    "                            break\n",
    "                        else:\n",
    "                            intervals.pop(i)\n",
    "                    \n",
    "                    if i==len(intervals) or newInterval[1]<intervals[i][0]:\n",
    "                        intervals.insert(i,newInterval)\n",
    "                    break\n",
    "        elif newInterval[0] <= val[1]:\n",
    "            if newInterval[1] < val[1]:\n",
    "                break\n",
    "            else:\n",
    "                newInterval[0] = val[0]\n",
    "                intervals.pop(i)\n",
    "                if i==len(intervals) or newInterval[1] < intervals[i][0]:\n",
    "                    intervals.insert(i, newInterval)\n",
    "                    break\n",
    "                else:\n",
    "                    while i!=len(intervals) and newInterval[1]>=intervals[i][0]:\n",
    "                        if newInterval[1]<=intervals[i][1]:\n",
    "                            intervals.insert(i,[newInterval[0],intervals[i][1]])\n",
    "                            intervals.pop(i+1)\n",
    "                            break\n",
    "                        else:\n",
    "                            intervals.pop(i)\n",
    "                    \n",
    "                    if i==len(intervals) or newInterval[1]<intervals[i][0]:\n",
    "                        intervals.insert(i,newInterval)\n",
    "                    break\n",
    "                \n",
    "    return intervals"
   ]
  },
  {
   "cell_type": "markdown",
   "id": "79ea28c7",
   "metadata": {},
   "source": [
    "## Tests"
   ]
  },
  {
   "cell_type": "code",
   "execution_count": 93,
   "id": "b0a7e095",
   "metadata": {},
   "outputs": [
    {
     "data": {
      "text/plain": [
       "[[1, 3], [4, 5], [6, 9]]"
      ]
     },
     "execution_count": 93,
     "metadata": {},
     "output_type": "execute_result"
    }
   ],
   "source": [
    "intervals = [[1,3],[6,9]]\n",
    "newInterval = [4,5]\n",
    "insert(intervals, newInterval)"
   ]
  },
  {
   "cell_type": "code",
   "execution_count": 94,
   "id": "f404f636",
   "metadata": {},
   "outputs": [
    {
     "data": {
      "text/plain": [
       "[[1, 3], [6, 9], [12, 13]]"
      ]
     },
     "execution_count": 94,
     "metadata": {},
     "output_type": "execute_result"
    }
   ],
   "source": [
    "intervals = [[1,3],[6,9]]\n",
    "newInterval = [12,13]\n",
    "insert(intervals, newInterval)"
   ]
  },
  {
   "cell_type": "code",
   "execution_count": 95,
   "id": "f6b0040a",
   "metadata": {},
   "outputs": [
    {
     "data": {
      "text/plain": [
       "[[1, 3], [4, 10], [12, 15]]"
      ]
     },
     "execution_count": 95,
     "metadata": {},
     "output_type": "execute_result"
    }
   ],
   "source": [
    "intervals = [[1,3],[6,9],[12,15]]\n",
    "newInterval = [4,10]\n",
    "insert(intervals, newInterval)"
   ]
  },
  {
   "cell_type": "code",
   "execution_count": 96,
   "id": "efb7e889",
   "metadata": {},
   "outputs": [
    {
     "data": {
      "text/plain": [
       "[[1, 3], [4, 15]]"
      ]
     },
     "execution_count": 96,
     "metadata": {},
     "output_type": "execute_result"
    }
   ],
   "source": [
    "intervals = [[1,3],[6,9],[12,15]]\n",
    "newInterval = [4,12]\n",
    "insert(intervals, newInterval)"
   ]
  },
  {
   "cell_type": "code",
   "execution_count": 130,
   "id": "dfdc5da2",
   "metadata": {},
   "outputs": [
    {
     "data": {
      "text/plain": [
       "[[1, 3], [4, 20], [21, 21]]"
      ]
     },
     "execution_count": 130,
     "metadata": {},
     "output_type": "execute_result"
    }
   ],
   "source": [
    "intervals = [[1,3],[6,9],[12,15],[16,19],[21,21]]\n",
    "newInterval = [4,20]\n",
    "insert(intervals, newInterval)"
   ]
  },
  {
   "cell_type": "code",
   "execution_count": 110,
   "id": "a8a767f6",
   "metadata": {},
   "outputs": [
    {
     "data": {
      "text/plain": [
       "[[1, 4], [6, 9]]"
      ]
     },
     "execution_count": 110,
     "metadata": {},
     "output_type": "execute_result"
    }
   ],
   "source": [
    "intervals = [[1,3],[6,9]]\n",
    "newInterval = [2,4]\n",
    "insert(intervals, newInterval)"
   ]
  },
  {
   "cell_type": "code",
   "execution_count": 100,
   "id": "7216376d",
   "metadata": {},
   "outputs": [
    {
     "data": {
      "text/plain": [
       "[[1, 10]]"
      ]
     },
     "execution_count": 100,
     "metadata": {},
     "output_type": "execute_result"
    }
   ],
   "source": [
    "intervals = [[1,5]]\n",
    "newInterval = [5,10]\n",
    "insert(intervals, newInterval)"
   ]
  },
  {
   "cell_type": "code",
   "execution_count": 127,
   "id": "1cc79927",
   "metadata": {},
   "outputs": [
    {
     "data": {
      "text/plain": [
       "[[0, 7], [9, 9]]"
      ]
     },
     "execution_count": 127,
     "metadata": {},
     "output_type": "execute_result"
    }
   ],
   "source": [
    "intervals = [[0,0],[2,4],[9,9]]\n",
    "newInterval = [0,7]\n",
    "insert(intervals, newInterval)"
   ]
  },
  {
   "cell_type": "markdown",
   "id": "7f6bc590",
   "metadata": {},
   "source": [
    "## Thoughts"
   ]
  },
  {
   "cell_type": "markdown",
   "id": "4df19408",
   "metadata": {},
   "source": [
    "I'll be honest, this feels like pretty gross code. To do it better, I could first put a function inside this one to remove duplicate code. Also, I feel like this would be easier with numpy than pure list comprehension"
   ]
  },
  {
   "cell_type": "code",
   "execution_count": null,
   "id": "9df15dff",
   "metadata": {},
   "outputs": [],
   "source": []
  }
 ],
 "metadata": {
  "kernelspec": {
   "display_name": "Python 3",
   "language": "python",
   "name": "python3"
  },
  "language_info": {
   "codemirror_mode": {
    "name": "ipython",
    "version": 3
   },
   "file_extension": ".py",
   "mimetype": "text/x-python",
   "name": "python",
   "nbconvert_exporter": "python",
   "pygments_lexer": "ipython3",
   "version": "3.8.8"
  }
 },
 "nbformat": 4,
 "nbformat_minor": 5
}
