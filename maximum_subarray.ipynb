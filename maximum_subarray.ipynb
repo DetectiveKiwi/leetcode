{
 "cells": [
  {
   "cell_type": "markdown",
   "id": "064ea2ad",
   "metadata": {},
   "source": [
    "# Maximum Subarray"
   ]
  },
  {
   "cell_type": "markdown",
   "id": "34acc1b0",
   "metadata": {},
   "source": [
    "https://leetcode.com/problems/maximum-subarray/"
   ]
  },
  {
   "cell_type": "markdown",
   "id": "f1923455",
   "metadata": {},
   "source": [
    "## Problem"
   ]
  },
  {
   "cell_type": "markdown",
   "id": "4ac0d367",
   "metadata": {},
   "source": [
    "Given an integer array nums, find the subarray which has the largest sum and return its sum.\n",
    "\n",
    "Example 1: \\\n",
    "Input: nums = [-2,1,-3,4,-1,2,1,-5,4] \\\n",
    "Output: 6 \\\n",
    "Explanation: [4,-1,2,1] has the largest sum = 6.\n",
    "\n",
    "Example 2: \\\n",
    "Input: nums = [1] \\\n",
    "Output: 1\n",
    "\n",
    "Example 3: \\\n",
    "Input: nums = [5,4,-1,7,8] \\\n",
    "Output: 23"
   ]
  },
  {
   "cell_type": "markdown",
   "id": "f04ec40c",
   "metadata": {},
   "source": [
    "## Constraint"
   ]
  },
  {
   "cell_type": "markdown",
   "id": "3e64aedf",
   "metadata": {},
   "source": [
    "1 <= nums.length <= 105 \\\n",
    "-104 <= nums[i] <= 104"
   ]
  },
  {
   "cell_type": "markdown",
   "id": "6693a65e",
   "metadata": {},
   "source": [
    "## Initial Thought Process"
   ]
  },
  {
   "cell_type": "markdown",
   "id": "fbcdfe8f",
   "metadata": {},
   "source": [
    "For example 3, I wondered why the subarray had all 5 numbers even with negative 1 in the middle. What then would be the largest negative value in the middle that would cause it to only include one side or the other? With some quick mental math, it seems that smaller than negative 9 would cause the answer to only be 15. This is due to the negative number canceling out the positive sub array to the left.\n",
    "\n",
    "Thus, the answer should be something along the lines of: take all of the positive subgroups, combine them with neighboring positive subgroups that are not fully canceled out by negative numbers in between, and find the largest one.\n",
    "\n",
    "Note, the question does not call to find what the array is. In some cases, there can be duplicate arrays"
   ]
  },
  {
   "cell_type": "markdown",
   "id": "9a1e471c",
   "metadata": {},
   "source": [
    "## Answer Thought Process"
   ]
  },
  {
   "cell_type": "markdown",
   "id": "a4877585",
   "metadata": {},
   "source": [
    "Do the following steps:\n",
    "\n",
    "For every number in a row,\n",
    "1. If first number, start sub array with this, and define maximum sum as this number\n",
    "2. If previous array has a negative sum: \\\n",
    "    a. Start new array\\\n",
    "3. If previous array has a positive sum:\\\n",
    "    a. If number is positive, add it to previous sum \\\n",
    "    b. If number is negative:\\\n",
    "        - Update maximum sum (if previous array has larger sum than current maximum)\\\n",
    "        - Add number to previous sum"
   ]
  },
  {
   "cell_type": "markdown",
   "id": "48247755",
   "metadata": {},
   "source": [
    "## Gut of code"
   ]
  },
  {
   "cell_type": "code",
   "execution_count": 5,
   "id": "1491bf58",
   "metadata": {},
   "outputs": [],
   "source": [
    "def maxSubArray(nums):\n",
    "    \"\"\"\n",
    "    :type nums: List[int]\n",
    "    :rtype: int\n",
    "    \"\"\"\n",
    "    maxNum = nums[0]\n",
    "    prevSum = nums[0]\n",
    "    \n",
    "    for num in nums[1:]:\n",
    "        if prevSum < 0:\n",
    "            maxNum = max([maxNum, prevSum])\n",
    "            prevSum = num\n",
    "        elif num >=0:\n",
    "            prevSum += num\n",
    "        else:\n",
    "            maxNum = max([maxNum, prevSum])\n",
    "            prevSum += num\n",
    "    \n",
    "    maxNum = max([maxNum, prevSum])\n",
    "    return(maxNum)"
   ]
  },
  {
   "cell_type": "markdown",
   "id": "05401d7f",
   "metadata": {},
   "source": [
    "## Tests"
   ]
  },
  {
   "cell_type": "code",
   "execution_count": 6,
   "id": "4c3d9730",
   "metadata": {},
   "outputs": [
    {
     "data": {
      "text/plain": [
       "6"
      ]
     },
     "execution_count": 6,
     "metadata": {},
     "output_type": "execute_result"
    }
   ],
   "source": [
    "nums = [-2,1,-3,4,-1,2,1,-5,4]\n",
    "maxSubArray(nums)"
   ]
  },
  {
   "cell_type": "code",
   "execution_count": 7,
   "id": "0eeff185",
   "metadata": {},
   "outputs": [
    {
     "data": {
      "text/plain": [
       "1"
      ]
     },
     "execution_count": 7,
     "metadata": {},
     "output_type": "execute_result"
    }
   ],
   "source": [
    "nums = [1]\n",
    "maxSubArray(nums)"
   ]
  },
  {
   "cell_type": "code",
   "execution_count": 8,
   "id": "66efecb9",
   "metadata": {},
   "outputs": [
    {
     "data": {
      "text/plain": [
       "23"
      ]
     },
     "execution_count": 8,
     "metadata": {},
     "output_type": "execute_result"
    }
   ],
   "source": [
    "nums = [5,4,-1,7,8]\n",
    "maxSubArray(nums)"
   ]
  },
  {
   "cell_type": "code",
   "execution_count": 9,
   "id": "7beb878d",
   "metadata": {},
   "outputs": [
    {
     "data": {
      "text/plain": [
       "-4"
      ]
     },
     "execution_count": 9,
     "metadata": {},
     "output_type": "execute_result"
    }
   ],
   "source": [
    "nums = [-5,-4]\n",
    "maxSubArray(nums)"
   ]
  },
  {
   "cell_type": "code",
   "execution_count": 14,
   "id": "64b11d53",
   "metadata": {},
   "outputs": [
    {
     "data": {
      "text/plain": [
       "7"
      ]
     },
     "execution_count": 14,
     "metadata": {},
     "output_type": "execute_result"
    }
   ],
   "source": [
    "nums = [4,2,-5,6]\n",
    "maxSubArray(nums)"
   ]
  },
  {
   "cell_type": "code",
   "execution_count": null,
   "id": "5d869298",
   "metadata": {},
   "outputs": [],
   "source": []
  }
 ],
 "metadata": {
  "kernelspec": {
   "display_name": "Python 3",
   "language": "python",
   "name": "python3"
  },
  "language_info": {
   "codemirror_mode": {
    "name": "ipython",
    "version": 3
   },
   "file_extension": ".py",
   "mimetype": "text/x-python",
   "name": "python",
   "nbconvert_exporter": "python",
   "pygments_lexer": "ipython3",
   "version": "3.8.8"
  }
 },
 "nbformat": 4,
 "nbformat_minor": 5
}
