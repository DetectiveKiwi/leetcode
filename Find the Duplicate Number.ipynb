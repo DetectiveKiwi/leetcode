{
 "cells": [
  {
   "cell_type": "markdown",
   "id": "b9ed5eeb",
   "metadata": {},
   "source": [
    "# 287. Find the Duplicate Number"
   ]
  },
  {
   "cell_type": "markdown",
   "id": "e0b54634",
   "metadata": {},
   "source": [
    "Given an array of integers nums containing n + 1 integers where each integer is in the range [1, n] inclusive.\n",
    "\n",
    "There is only one repeated number in nums, return this repeated number.\n",
    "\n",
    "You must solve the problem without modifying the array nums and uses only constant extra space.\n",
    "\n",
    " \n",
    "\n",
    "Example 1:\n",
    "\n",
    "Input: nums = [1,3,4,2,2]\n",
    "\n",
    "Output: 2\n",
    "\n",
    "Example 2:\n",
    "\n",
    "Input: nums = [3,1,3,4,2]\n",
    "\n",
    "Output: 3\n",
    " \n",
    "\n",
    "Constraints:\n",
    "\n",
    "1 <= n <= 105\n",
    "\n",
    "nums.length == n + 1\n",
    "\n",
    "1 <= nums[i] <= n\n",
    "\n",
    "All the integers in nums appear only once except for precisely one integer which appears two or more times.\n",
    " \n",
    "\n",
    "Follow up:\n",
    "\n",
    "How can we prove that at least one duplicate number must exist in nums?\n",
    "\n",
    "Can you solve the problem in linear runtime complexity?"
   ]
  },
  {
   "cell_type": "markdown",
   "id": "437be882",
   "metadata": {},
   "source": [
    "## Thought Process"
   ]
  },
  {
   "cell_type": "markdown",
   "id": "aa000c49",
   "metadata": {},
   "source": [
    "I found three solutions for this"
   ]
  },
  {
   "cell_type": "markdown",
   "id": "921d0682",
   "metadata": {},
   "source": [
    "Soln 1: a pure brute force algorithm. Iterate through one list, iterate through the second, and when the elements match you have the duplicate number. This is obviously extremely slow O(n^2)"
   ]
  },
  {
   "cell_type": "markdown",
   "id": "24a69ffe",
   "metadata": {},
   "source": [
    "Soln 2: A nice solution based on the fact that every integer exists once except for one of them. Form an array with a bunch of 0's. Iterate through nums, and set the value of the array at element nums[i] to nums[i] (keep track of plus or minus 1). Once you try and set a value to one that already exists, you have your element."
   ]
  },
  {
   "cell_type": "markdown",
   "id": "1b3ceaa5",
   "metadata": {},
   "source": [
    "Soln 3: Upon searching for algorithms, it appears that Floyd's tortoise and hare algorithm works. Basically, set two pointers that update where they are pointing based on the values of nums. The first one goes through one element at a time. The second goes through two elements at a time. Once they meet, you've detected a cycle.\n",
    "\n",
    "If X is the distance to the cycle, Y is the distance to the meeting point, C is the cycle distance, and Z is C-Y (rest of distance of cycle), then the slow pointer travels X+mC+Y and the fast pointer travels X+nC+Y. The slow pointer travels half the distance as the fast pointer. Therefore: 2X + 2mC + 2Y = X + nC + Y. Then, X = C(n-2m) - Y = C(n-2m-1) + Z.\n",
    "\n",
    "This is useful, since we can reset of the pointers to the beginning. Iterating both pointers one at a time leads to the pointers meeting at the start of the cycle. The pointer at the beginning travels X. The pointer at point Y travels the cycle a bunch of times plus Z. This ends up being the start.\n",
    "\n",
    "The duplicate element happens to be the beginning of the cycle. If there is no duplicate, a cycle necessarily cannot occur. Therefore, the duplicate is what starts the cycle."
   ]
  },
  {
   "cell_type": "markdown",
   "id": "e68a0ffe",
   "metadata": {},
   "source": [
    "## Code"
   ]
  },
  {
   "cell_type": "code",
   "execution_count": 46,
   "id": "3b80b65a",
   "metadata": {},
   "outputs": [],
   "source": [
    "def findDuplicate(nums):\n",
    "    \"\"\"\n",
    "    :type nums: List[int]\n",
    "    :rtype: int\n",
    "    \"\"\"\n",
    "    ar = [0 for i in range(len(nums))]\n",
    "    \n",
    "    for n in nums:\n",
    "        if ar[n-1]!=0:\n",
    "            return(n)\n",
    "        else:\n",
    "            ar[n-1] = n\n",
    "\n",
    "    return"
   ]
  },
  {
   "cell_type": "code",
   "execution_count": 67,
   "id": "8d7ed6b4",
   "metadata": {},
   "outputs": [],
   "source": [
    "def findDuplicate(nums):\n",
    "    \"\"\"\n",
    "    :type nums: List[int]\n",
    "    :rtype: int\n",
    "    \"\"\"\n",
    "    slow = nums[0]\n",
    "    fast = nums[0]\n",
    "    \n",
    "    while True:\n",
    "        slow = nums[slow]\n",
    "        fast = nums[nums[fast]]\n",
    "        if slow==fast:\n",
    "            break\n",
    "            \n",
    "    slow = nums[0]\n",
    "    while slow!=fast:\n",
    "        slow = nums[slow]\n",
    "        fast = nums[fast]\n",
    "    \n",
    "    return(slow)"
   ]
  },
  {
   "cell_type": "code",
   "execution_count": 68,
   "id": "a08c6249",
   "metadata": {},
   "outputs": [
    {
     "data": {
      "text/plain": [
       "2"
      ]
     },
     "execution_count": 68,
     "metadata": {},
     "output_type": "execute_result"
    }
   ],
   "source": [
    "nums = [1,3,4,2,2]\n",
    "findDuplicate(nums)"
   ]
  },
  {
   "cell_type": "code",
   "execution_count": 69,
   "id": "32ec2c81",
   "metadata": {},
   "outputs": [
    {
     "data": {
      "text/plain": [
       "3"
      ]
     },
     "execution_count": 69,
     "metadata": {},
     "output_type": "execute_result"
    }
   ],
   "source": [
    "nums = [3,1,3,4,2]\n",
    "findDuplicate(nums)"
   ]
  },
  {
   "cell_type": "code",
   "execution_count": 70,
   "id": "0094e536",
   "metadata": {},
   "outputs": [
    {
     "data": {
      "text/plain": [
       "1"
      ]
     },
     "execution_count": 70,
     "metadata": {},
     "output_type": "execute_result"
    }
   ],
   "source": [
    "nums = [1,1]\n",
    "findDuplicate(nums)"
   ]
  },
  {
   "cell_type": "code",
   "execution_count": null,
   "id": "50464cd5",
   "metadata": {},
   "outputs": [],
   "source": []
  }
 ],
 "metadata": {
  "kernelspec": {
   "display_name": "Python 3",
   "language": "python",
   "name": "python3"
  },
  "language_info": {
   "codemirror_mode": {
    "name": "ipython",
    "version": 3
   },
   "file_extension": ".py",
   "mimetype": "text/x-python",
   "name": "python",
   "nbconvert_exporter": "python",
   "pygments_lexer": "ipython3",
   "version": "3.8.8"
  }
 },
 "nbformat": 4,
 "nbformat_minor": 5
}
