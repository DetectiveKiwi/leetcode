{
 "cells": [
  {
   "cell_type": "markdown",
   "id": "7879530a",
   "metadata": {},
   "source": [
    "# Group Anagrams"
   ]
  },
  {
   "cell_type": "markdown",
   "id": "fe10bce0",
   "metadata": {},
   "source": [
    "https://leetcode.com/explore/interview/card/top-interview-questions-medium/103/array-and-strings/778/"
   ]
  },
  {
   "cell_type": "markdown",
   "id": "4d65667a",
   "metadata": {},
   "source": [
    "## Problem"
   ]
  },
  {
   "cell_type": "markdown",
   "id": "af9ad3c1",
   "metadata": {},
   "source": [
    "Given an array of strings strs, group the anagrams together. You can return the answer in any order.\n",
    "\n",
    "An Anagram is a word or phrase formed by rearranging the letters of a different word or phrase, typically using all the original letters exactly once.\n",
    "\n",
    "Example 1:\\\n",
    "Input: strs = [\"eat\",\"tea\",\"tan\",\"ate\",\"nat\",\"bat\"]\\\n",
    "Output: [[\"bat\"],[\"nat\",\"tan\"],[\"ate\",\"eat\",\"tea\"]]\n",
    "\n",
    "Example 2:\\\n",
    "Input: strs = [\"\"]\\\n",
    "Output: [[\"\"]]\n",
    "\n",
    "Example 3:\\\n",
    "Input: strs = [\"a\"]\\\n",
    "Output: [[\"a\"]]\n",
    "\n",
    "Constraints:\\\n",
    "1 <= strs.length <= 104\\\n",
    "0 <= strs[i].length <= 100\\\n",
    "strs[i] consists of lowercase English letters."
   ]
  },
  {
   "cell_type": "markdown",
   "id": "4a975994",
   "metadata": {},
   "source": [
    "## Initial Thought Process"
   ]
  },
  {
   "cell_type": "markdown",
   "id": "e3b23d3a",
   "metadata": {},
   "source": [
    "Loop through all elements. For each element, check if it's an anagram with any element of groups. If not, add group"
   ]
  },
  {
   "cell_type": "markdown",
   "id": "010df452",
   "metadata": {},
   "source": [
    "## Gut of code"
   ]
  },
  {
   "cell_type": "code",
   "execution_count": 83,
   "id": "e2731b1b",
   "metadata": {},
   "outputs": [],
   "source": [
    "def groupAnagrams(strs):\n",
    "        \"\"\"\n",
    "        :type strs: List[str]\n",
    "        :rtype: List[List[str]]\n",
    "        \"\"\"\n",
    "        anagrams = []\n",
    "        anagrams_sorted = []\n",
    "        for s in strs:\n",
    "            s_sorted = \"\".join(sorted(s))\n",
    "            try:\n",
    "                anagrams[anagrams_sorted.index(s_sorted)].append(s)\n",
    "            except ValueError:\n",
    "                anagrams.append([s])\n",
    "                anagrams_sorted.append(s_sorted)\n",
    "            \n",
    "        return anagrams"
   ]
  },
  {
   "cell_type": "code",
   "execution_count": 84,
   "id": "d722e3c7",
   "metadata": {
    "scrolled": true
   },
   "outputs": [
    {
     "data": {
      "text/plain": [
       "[['eat', 'tea', 'ate'], ['tan', 'nat'], ['bat']]"
      ]
     },
     "execution_count": 84,
     "metadata": {},
     "output_type": "execute_result"
    }
   ],
   "source": [
    "groupAnagrams([\"eat\",\"tea\",\"tan\",\"ate\",\"nat\",\"bat\"])"
   ]
  },
  {
   "cell_type": "code",
   "execution_count": 85,
   "id": "937251f4",
   "metadata": {},
   "outputs": [
    {
     "data": {
      "text/plain": [
       "[['']]"
      ]
     },
     "execution_count": 85,
     "metadata": {},
     "output_type": "execute_result"
    }
   ],
   "source": [
    "groupAnagrams([\"\"])"
   ]
  },
  {
   "cell_type": "code",
   "execution_count": 86,
   "id": "42b50723",
   "metadata": {},
   "outputs": [
    {
     "data": {
      "text/plain": [
       "[['a']]"
      ]
     },
     "execution_count": 86,
     "metadata": {},
     "output_type": "execute_result"
    }
   ],
   "source": [
    "groupAnagrams([\"a\"])"
   ]
  },
  {
   "cell_type": "markdown",
   "id": "25fb2457",
   "metadata": {},
   "source": [
    "## Thoughts"
   ]
  },
  {
   "cell_type": "markdown",
   "id": "58961d88",
   "metadata": {},
   "source": [
    "Seems like a quick way to use list logic to loop through every element in strs\n",
    "\n",
    "Although, interestingly, there are faster solutions that require slightly more memory. Perhaps these solutions use other tricks? Such as sorting everything and grouping nearby neighbors? It's possible using Python commands at least"
   ]
  },
  {
   "cell_type": "code",
   "execution_count": null,
   "id": "16ba6a78",
   "metadata": {},
   "outputs": [],
   "source": []
  },
  {
   "cell_type": "code",
   "execution_count": null,
   "id": "99ecc043",
   "metadata": {},
   "outputs": [],
   "source": []
  }
 ],
 "metadata": {
  "kernelspec": {
   "display_name": "Python 3",
   "language": "python",
   "name": "python3"
  },
  "language_info": {
   "codemirror_mode": {
    "name": "ipython",
    "version": 3
   },
   "file_extension": ".py",
   "mimetype": "text/x-python",
   "name": "python",
   "nbconvert_exporter": "python",
   "pygments_lexer": "ipython3",
   "version": "3.8.8"
  }
 },
 "nbformat": 4,
 "nbformat_minor": 5
}
