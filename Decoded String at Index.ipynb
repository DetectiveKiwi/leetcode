{
 "cells": [
  {
   "cell_type": "markdown",
   "id": "4be0ff90",
   "metadata": {},
   "source": [
    "# 880. Decoded String at Index"
   ]
  },
  {
   "cell_type": "markdown",
   "id": "86489906",
   "metadata": {},
   "source": [
    "You are given an encoded string s. To decode the string to a tape, the encoded string is read one character at a time and the following steps are taken:\n",
    "\n",
    "If the character read is a letter, that letter is written onto the tape.\\\n",
    "If the character read is a digit d, the entire current tape is repeatedly written d - 1 more times in total.\\\n",
    "Given an integer k, return the kth letter (1-indexed) in the decoded string.\n",
    "\n",
    " \n",
    "\n",
    "Example 1:\n",
    "\n",
    "Input: s = \"leet2code3\", k = 10\\\n",
    "Output: \"o\"\\\n",
    "Explanation: The decoded string is \"leetleetcodeleetleetcodeleetleetcode\".\\\n",
    "The 10th letter in the string is \"o\".\\\n",
    "Example 2:\n",
    "\n",
    "Input: s = \"ha22\", k = 5\\\n",
    "Output: \"h\"\\\n",
    "Explanation: The decoded string is \"hahahaha\".\\\n",
    "The 5th letter is \"h\".\\\n",
    "Example 3:\n",
    "\n",
    "Input: s = \"a2345678999999999999999\", k = 1\\\n",
    "Output: \"a\"\\\n",
    "Explanation: The decoded string is \"a\" repeated 8301530446056247680 times.\\\n",
    "The 1st letter is \"a\".\n",
    " \n",
    "\n",
    "Constraints:\n",
    "\n",
    "2 <= s.length <= 100\\\n",
    "s consists of lowercase English letters and digits 2 through 9.\\\n",
    "s starts with a letter.\\\n",
    "1 <= k <= 109\\\n",
    "It is guaranteed that k is less than or equal to the length of the decoded string.\\\n",
    "The decoded string is guaranteed to have less than 263 letters."
   ]
  },
  {
   "cell_type": "markdown",
   "id": "9aca7dc2",
   "metadata": {},
   "source": [
    "## Thought Process"
   ]
  },
  {
   "cell_type": "markdown",
   "id": "b301ca61",
   "metadata": {},
   "source": [
    "My initial thought, although turns out it's very memory inefficient, is to keep a record of the secret message at all times. Then, whenever a number occurs, simply repeat the secret message. This of course means that you can have a very long string.\n",
    "\n",
    "To find a better soln, I figured that you can move a pointer along and basically follow the string until it reaches the kth index. Basically, keep track of the secret message length (start at 0). Iterate through the list, and add 1 every time a letter is introduced. If a number is reached, multiple the length by the respective number IF the multiple is less than k. IF the multiple is less than k, subtract as many multiples from k as possible without making k negative and restart from the beginning. This approach basically keeps going through the string until it is impossible to do so and reduces k so that it will never return to the same spot"
   ]
  },
  {
   "cell_type": "markdown",
   "id": "f4d6a8f4",
   "metadata": {},
   "source": [
    "## Code"
   ]
  },
  {
   "cell_type": "code",
   "execution_count": 389,
   "id": "7243417e",
   "metadata": {},
   "outputs": [],
   "source": [
    "#Very memory inefficient solution\n",
    "\n",
    "def decodeAtIndex(s, k):\n",
    "    \"\"\"\n",
    "    :type s: str\n",
    "    :type k: int\n",
    "    :rtype: str\n",
    "    \"\"\"\n",
    "    tape = ''\n",
    "    \n",
    "    for c in s:\n",
    "        if ord(c)>96:\n",
    "            tape += c\n",
    "        else:\n",
    "            tape *= int(c)\n",
    "            \n",
    "        if len(tape)>=k:\n",
    "            return tape[k-1]\n",
    "        \n",
    "    return tape[k-1]"
   ]
  },
  {
   "cell_type": "code",
   "execution_count": 399,
   "id": "08d5244f",
   "metadata": {},
   "outputs": [],
   "source": [
    "#Fast and memory efficient solution\n",
    "\n",
    "def decodeAtIndex(s, k):\n",
    "    \"\"\"\n",
    "    :type s: str\n",
    "    :type k: int\n",
    "    :rtype: str\n",
    "    \"\"\"\n",
    "    sL = 0\n",
    "    i = 0\n",
    "    \n",
    "    while True:\n",
    "        for i in range(len(s)):\n",
    "            if ord(s[i])>96:\n",
    "                sL += 1\n",
    "            elif sL * int(s[i]) < k:\n",
    "                sL *= int(s[i])\n",
    "            else:\n",
    "                k -= sL*(1 + (k - sL - 1) // sL)\n",
    "                sL = 0\n",
    "                break\n",
    "\n",
    "            if k==sL:\n",
    "                return(s[i])"
   ]
  },
  {
   "cell_type": "code",
   "execution_count": 400,
   "id": "94bf1723",
   "metadata": {},
   "outputs": [
    {
     "data": {
      "text/plain": [
       "'o'"
      ]
     },
     "execution_count": 400,
     "metadata": {},
     "output_type": "execute_result"
    }
   ],
   "source": [
    "s = \"leet2code3\"\n",
    "k = 10\n",
    "\n",
    "decodeAtIndex(s, k)"
   ]
  },
  {
   "cell_type": "code",
   "execution_count": 401,
   "id": "3d63c3a4",
   "metadata": {},
   "outputs": [
    {
     "data": {
      "text/plain": [
       "'h'"
      ]
     },
     "execution_count": 401,
     "metadata": {},
     "output_type": "execute_result"
    }
   ],
   "source": [
    "s = \"ha22\"\n",
    "k = 5\n",
    "\n",
    "decodeAtIndex(s, k)"
   ]
  },
  {
   "cell_type": "code",
   "execution_count": null,
   "id": "53a9d411",
   "metadata": {},
   "outputs": [],
   "source": []
  }
 ],
 "metadata": {
  "kernelspec": {
   "display_name": "Python 3",
   "language": "python",
   "name": "python3"
  },
  "language_info": {
   "codemirror_mode": {
    "name": "ipython",
    "version": 3
   },
   "file_extension": ".py",
   "mimetype": "text/x-python",
   "name": "python",
   "nbconvert_exporter": "python",
   "pygments_lexer": "ipython3",
   "version": "3.8.8"
  }
 },
 "nbformat": 4,
 "nbformat_minor": 5
}
