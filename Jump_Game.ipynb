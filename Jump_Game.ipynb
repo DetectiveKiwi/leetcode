{
 "cells": [
  {
   "cell_type": "markdown",
   "id": "24aa045e",
   "metadata": {},
   "source": [
    "# Jump Game"
   ]
  },
  {
   "cell_type": "markdown",
   "id": "2faf601a",
   "metadata": {},
   "source": [
    "https://leetcode.com/explore/interview/card/top-interview-questions-medium/111/dynamic-programming/807/"
   ]
  },
  {
   "cell_type": "markdown",
   "id": "05a52bb4",
   "metadata": {},
   "source": [
    "## Problem"
   ]
  },
  {
   "cell_type": "markdown",
   "id": "d8a603a3",
   "metadata": {},
   "source": [
    "You are given an integer array nums. You are initially positioned at the array's first index, and each element in the array represents your maximum jump length at that position.\n",
    "\n",
    "Return true if you can reach the last index, or false otherwise.\n",
    "\n",
    "Example 1:\n",
    "Input: nums = [2,3,1,1,4]\n",
    "Output: true\n",
    "Explanation: Jump 1 step from index 0 to 1, then 3 steps to the last index.\n",
    "\n",
    "Example 2:\n",
    "Input: nums = [3,2,1,0,4]\n",
    "Output: false\n",
    "Explanation: You will always arrive at index 3 no matter what. Its maximum jump length is 0, which makes it impossible to reach the last index."
   ]
  },
  {
   "cell_type": "markdown",
   "id": "c56037e9",
   "metadata": {},
   "source": [
    "## Constraints"
   ]
  },
  {
   "cell_type": "markdown",
   "id": "e76dd5d4",
   "metadata": {},
   "source": [
    "1 <= nums.length <= 10^4\n",
    "\n",
    "0 <= nums[i] <= 10^5"
   ]
  },
  {
   "cell_type": "markdown",
   "id": "db699c0a",
   "metadata": {},
   "source": [
    "## Initial Thought Process"
   ]
  },
  {
   "cell_type": "markdown",
   "id": "3bf13232",
   "metadata": {},
   "source": [
    "The only thing that can stop you from reaching the end is if you land on a \"0,\" so that must be avoided at any cost.\n",
    "\n",
    "If you have a sequence such as \"2\" then \"0\" however, you'll be able to skip the \"0\" and move on.\n",
    "\n",
    "Thus, the only way you can NOT reach the finish is if you have something along the lines of \"[n,N,N-1...2,1,0,...]\" anywhere in the array where n<=N. The last statement follows since if n<=N, you'll land in the chain of decreasing by one elements (which always converge to 0). If n>N, then you can directly skip over \"0\"\n",
    "\n",
    "Thinking more, you could have a case that occurs before \"n\" above which is super large and skip over everything. Thus, a better solution is rather to subtract every element before 0 to see if any will pass 0"
   ]
  },
  {
   "cell_type": "markdown",
   "id": "c43fbaf3",
   "metadata": {},
   "source": [
    "## Answer Thought Process"
   ]
  },
  {
   "cell_type": "markdown",
   "id": "2b04b9ac",
   "metadata": {},
   "source": [
    "Do the following steps:\n",
    "\n",
    "1. Do trivial cases\n",
    "2. Find all locations where 0 occurs\n",
    "3. If no 0 occurs, return trivial solution\n",
    "4. For every 0, check every element before it. If any element can skip 0, then it's possible to jump"
   ]
  },
  {
   "cell_type": "markdown",
   "id": "f5e051d8",
   "metadata": {},
   "source": [
    "## Gut of Code"
   ]
  },
  {
   "cell_type": "code",
   "execution_count": 211,
   "id": "fbd4c508",
   "metadata": {},
   "outputs": [],
   "source": [
    "def canJump(nums):\n",
    "    \"\"\"\n",
    "    Finds if you start at idx=0 in nums, if you can jump to idx=-1\n",
    "    \n",
    "    :type nums: List[int]\n",
    "    :rtype: bool\n",
    "    \"\"\"\n",
    "    import numpy as np\n",
    "    nums = np.array(nums)\n",
    "    if len(nums)==1:\n",
    "        #Trivial Case\n",
    "        return True\n",
    "    \n",
    "    if nums[0]==0:\n",
    "        #Trivial Case\n",
    "        return False\n",
    "    \n",
    "    idx_0 = np.argwhere(nums==0)[:,0]\n",
    "    \n",
    "    if len(idx_0)==0:\n",
    "        return True\n",
    "    \n",
    "    if idx_0[-1]==len(nums)-1:\n",
    "        idx_0 = idx_0[:-1] #remove case where we end on 0\n",
    "\n",
    "    for i in range(len(idx_0)):\n",
    "        if np.any(nums[0:idx_0[i]]>np.arange(idx_0[i],0,-1)):\n",
    "            continue\n",
    "        else:\n",
    "            return False\n",
    "    return True"
   ]
  },
  {
   "cell_type": "markdown",
   "id": "ca9a8826",
   "metadata": {},
   "source": [
    "## Testing Answer"
   ]
  },
  {
   "cell_type": "code",
   "execution_count": 212,
   "id": "7ef73304",
   "metadata": {},
   "outputs": [
    {
     "data": {
      "text/plain": [
       "True"
      ]
     },
     "execution_count": 212,
     "metadata": {},
     "output_type": "execute_result"
    }
   ],
   "source": [
    "seq = [0]\n",
    "canJump(seq)"
   ]
  },
  {
   "cell_type": "code",
   "execution_count": 210,
   "id": "258ea29a",
   "metadata": {},
   "outputs": [
    {
     "data": {
      "text/plain": [
       "False"
      ]
     },
     "execution_count": 210,
     "metadata": {},
     "output_type": "execute_result"
    }
   ],
   "source": [
    "seq = [3,2,1,0,4]\n",
    "canJump(seq)"
   ]
  },
  {
   "cell_type": "code",
   "execution_count": 197,
   "id": "823d3362",
   "metadata": {},
   "outputs": [
    {
     "name": "stdout",
     "output_type": "stream",
     "text": [
      "[7 4 8 2 5 3 9 7 3 5 6 0 8 5 4 8 9 4 1 9]\n"
     ]
    },
    {
     "data": {
      "text/plain": [
       "True"
      ]
     },
     "execution_count": 197,
     "metadata": {},
     "output_type": "execute_result"
    }
   ],
   "source": [
    "# Random sequence\n",
    "seq = np.random.randint(0,10,20)\n",
    "print(seq)\n",
    "canJump(seq)"
   ]
  },
  {
   "cell_type": "code",
   "execution_count": 198,
   "id": "cea14129",
   "metadata": {},
   "outputs": [
    {
     "name": "stdout",
     "output_type": "stream",
     "text": [
      "[84508 55515 94396 ... 98970 87482 84355]\n"
     ]
    },
    {
     "data": {
      "text/plain": [
       "True"
      ]
     },
     "execution_count": 198,
     "metadata": {},
     "output_type": "execute_result"
    }
   ],
   "source": [
    "# Random sequence hitting limits of constraints\n",
    "seq = np.random.randint(0,100000,10000)\n",
    "print(seq)\n",
    "canJump(seq)"
   ]
  },
  {
   "cell_type": "code",
   "execution_count": 199,
   "id": "3bdf2312",
   "metadata": {},
   "outputs": [
    {
     "data": {
      "text/plain": [
       "False"
      ]
     },
     "execution_count": 199,
     "metadata": {},
     "output_type": "execute_result"
    }
   ],
   "source": [
    "# Multiple 0's can't make it\n",
    "seq = np.array([1,0,0])\n",
    "canJump(seq)"
   ]
  },
  {
   "cell_type": "code",
   "execution_count": 200,
   "id": "a2a27bbc",
   "metadata": {},
   "outputs": [
    {
     "data": {
      "text/plain": [
       "True"
      ]
     },
     "execution_count": 200,
     "metadata": {},
     "output_type": "execute_result"
    }
   ],
   "source": [
    "# Multiple 0's can't make it\n",
    "seq = np.array([2,0,0])\n",
    "canJump(seq)"
   ]
  },
  {
   "cell_type": "code",
   "execution_count": 201,
   "id": "6884ebb2",
   "metadata": {},
   "outputs": [
    {
     "data": {
      "text/plain": [
       "True"
      ]
     },
     "execution_count": 201,
     "metadata": {},
     "output_type": "execute_result"
    }
   ],
   "source": [
    "# Multiple 0's can make it\n",
    "seq = np.array([3,0,0])\n",
    "canJump(seq)"
   ]
  },
  {
   "cell_type": "code",
   "execution_count": 202,
   "id": "1920904e",
   "metadata": {},
   "outputs": [
    {
     "data": {
      "text/plain": [
       "True"
      ]
     },
     "execution_count": 202,
     "metadata": {},
     "output_type": "execute_result"
    }
   ],
   "source": [
    "# Multiple 0's can make it\n",
    "seq = np.array([6,0,0,0,0,0])\n",
    "canJump(seq)"
   ]
  },
  {
   "cell_type": "code",
   "execution_count": null,
   "id": "2f2b7c68",
   "metadata": {},
   "outputs": [],
   "source": []
  },
  {
   "cell_type": "code",
   "execution_count": null,
   "id": "f3a7f994",
   "metadata": {},
   "outputs": [],
   "source": []
  }
 ],
 "metadata": {
  "kernelspec": {
   "display_name": "Python 3",
   "language": "python",
   "name": "python3"
  },
  "language_info": {
   "codemirror_mode": {
    "name": "ipython",
    "version": 3
   },
   "file_extension": ".py",
   "mimetype": "text/x-python",
   "name": "python",
   "nbconvert_exporter": "python",
   "pygments_lexer": "ipython3",
   "version": "3.8.8"
  }
 },
 "nbformat": 4,
 "nbformat_minor": 5
}
